{
 "cells": [
  {
   "cell_type": "markdown",
   "metadata": {},
   "source": [
    "## Setting Up"
   ]
  },
  {
   "cell_type": "code",
   "execution_count": 169,
   "metadata": {},
   "outputs": [],
   "source": [
    "import numpy as np\n",
    "import pandas as pd\n",
    "import matplotlib.pyplot as plt\n",
    "import seaborn as sns\n",
    "from sklearn.model_selection import train_test_split, GridSearchCV\n",
    "from sklearn.neighbors import KNeighborsClassifier\n",
    "from sklearn.pipeline import Pipeline\n",
    "from sklearn.preprocessing import StandardScaler\n",
    "from sklearn.feature_extraction.text import CountVectorizer, TfidfVectorizer\n",
    "from sklearn.metrics import plot_confusion_matrix, roc_auc_score, plot_roc_curve, accuracy_score, recall_score, precision_score, f1_score\n",
    "from sklearn.ensemble import BaggingClassifier, RandomForestClassifier, VotingClassifier, GradientBoostingClassifier, AdaBoostClassifier\n",
    "from xgboost import XGBClassifier\n",
    "from sklearn.linear_model import LogisticRegression\n",
    "from sklearn.svm import SVC"
   ]
  },
  {
   "cell_type": "markdown",
   "metadata": {},
   "source": [
    "In the steps below, taking the same steps as during Data Cleaning and EDA section to prepare the data."
   ]
  },
  {
   "cell_type": "code",
   "execution_count": 170,
   "metadata": {},
   "outputs": [
    {
     "name": "stderr",
     "output_type": "stream",
     "text": [
      "/Users/young_park/opt/anaconda3/envs/dsi/lib/python3.8/site-packages/IPython/core/interactiveshell.py:3071: DtypeWarning: Columns (64,78,82) have mixed types.Specify dtype option on import or set low_memory=False.\n",
      "  has_raised = await self.run_ast_nodes(code_ast.body, cell_name,\n"
     ]
    }
   ],
   "source": [
    "df_original = pd.read_csv('../data/combined.csv')"
   ]
  },
  {
   "cell_type": "code",
   "execution_count": 171,
   "metadata": {},
   "outputs": [],
   "source": [
    "df = df_original[['subreddit', 'selftext', 'title']]"
   ]
  },
  {
   "cell_type": "code",
   "execution_count": 172,
   "metadata": {},
   "outputs": [
    {
     "name": "stderr",
     "output_type": "stream",
     "text": [
      "<ipython-input-172-9475847927bf>:1: SettingWithCopyWarning: \n",
      "A value is trying to be set on a copy of a slice from a DataFrame.\n",
      "Try using .loc[row_indexer,col_indexer] = value instead\n",
      "\n",
      "See the caveats in the documentation: https://pandas.pydata.org/pandas-docs/stable/user_guide/indexing.html#returning-a-view-versus-a-copy\n",
      "  df['subreddit_indicator'] = df['subreddit'].apply(lambda x:1 if x=='Target' else 0)\n"
     ]
    }
   ],
   "source": [
    "df['subreddit_indicator'] = df['subreddit'].apply(lambda x:1 if x=='Target' else 0)"
   ]
  },
  {
   "cell_type": "code",
   "execution_count": 173,
   "metadata": {},
   "outputs": [
    {
     "name": "stderr",
     "output_type": "stream",
     "text": [
      "/Users/young_park/opt/anaconda3/envs/dsi/lib/python3.8/site-packages/pandas/core/series.py:4517: SettingWithCopyWarning: \n",
      "A value is trying to be set on a copy of a slice from a DataFrame\n",
      "\n",
      "See the caveats in the documentation: https://pandas.pydata.org/pandas-docs/stable/user_guide/indexing.html#returning-a-view-versus-a-copy\n",
      "  return super().fillna(\n"
     ]
    }
   ],
   "source": [
    "df['selftext'].fillna(df['title'], inplace=True)"
   ]
  },
  {
   "cell_type": "code",
   "execution_count": 174,
   "metadata": {},
   "outputs": [
    {
     "name": "stderr",
     "output_type": "stream",
     "text": [
      "<ipython-input-174-35d9960c12aa>:1: SettingWithCopyWarning: \n",
      "A value is trying to be set on a copy of a slice from a DataFrame.\n",
      "Try using .loc[row_indexer,col_indexer] = value instead\n",
      "\n",
      "See the caveats in the documentation: https://pandas.pydata.org/pandas-docs/stable/user_guide/indexing.html#returning-a-view-versus-a-copy\n",
      "  df['selftext_length'] = [len(x) for x in df['selftext']]\n"
     ]
    }
   ],
   "source": [
    "df['selftext_length'] = [len(x) for x in df['selftext']]"
   ]
  },
  {
   "cell_type": "code",
   "execution_count": 175,
   "metadata": {},
   "outputs": [
    {
     "name": "stderr",
     "output_type": "stream",
     "text": [
      "<ipython-input-175-f7cd06638f93>:1: SettingWithCopyWarning: \n",
      "A value is trying to be set on a copy of a slice from a DataFrame.\n",
      "Try using .loc[row_indexer,col_indexer] = value instead\n",
      "\n",
      "See the caveats in the documentation: https://pandas.pydata.org/pandas-docs/stable/user_guide/indexing.html#returning-a-view-versus-a-copy\n",
      "  df['selftext_word_count'] = [len(x.split()) for x in df['selftext']]\n"
     ]
    }
   ],
   "source": [
    "df['selftext_word_count'] = [len(x.split()) for x in df['selftext']]"
   ]
  },
  {
   "cell_type": "code",
   "execution_count": 176,
   "metadata": {},
   "outputs": [
    {
     "data": {
      "text/html": [
       "<div>\n",
       "<style scoped>\n",
       "    .dataframe tbody tr th:only-of-type {\n",
       "        vertical-align: middle;\n",
       "    }\n",
       "\n",
       "    .dataframe tbody tr th {\n",
       "        vertical-align: top;\n",
       "    }\n",
       "\n",
       "    .dataframe thead th {\n",
       "        text-align: right;\n",
       "    }\n",
       "</style>\n",
       "<table border=\"1\" class=\"dataframe\">\n",
       "  <thead>\n",
       "    <tr style=\"text-align: right;\">\n",
       "      <th></th>\n",
       "      <th>subreddit</th>\n",
       "      <th>selftext</th>\n",
       "      <th>title</th>\n",
       "      <th>subreddit_indicator</th>\n",
       "      <th>selftext_length</th>\n",
       "      <th>selftext_word_count</th>\n",
       "    </tr>\n",
       "  </thead>\n",
       "  <tbody>\n",
       "    <tr>\n",
       "      <th>0</th>\n",
       "      <td>Target</td>\n",
       "      <td>Please bullseye, have mercy</td>\n",
       "      <td>Please bullseye, have mercy</td>\n",
       "      <td>1</td>\n",
       "      <td>27</td>\n",
       "      <td>4</td>\n",
       "    </tr>\n",
       "    <tr>\n",
       "      <th>1</th>\n",
       "      <td>Target</td>\n",
       "      <td>Hi everyone! My first orientation day is comin...</td>\n",
       "      <td>What to wear on first day?</td>\n",
       "      <td>1</td>\n",
       "      <td>241</td>\n",
       "      <td>46</td>\n",
       "    </tr>\n",
       "    <tr>\n",
       "      <th>2</th>\n",
       "      <td>Target</td>\n",
       "      <td>Anyone else’s “leaders” act more like managers?</td>\n",
       "      <td>Anyone else’s “leaders” act more like managers?</td>\n",
       "      <td>1</td>\n",
       "      <td>47</td>\n",
       "      <td>7</td>\n",
       "    </tr>\n",
       "    <tr>\n",
       "      <th>3</th>\n",
       "      <td>Target</td>\n",
       "      <td>My gf recently was threatened with termination...</td>\n",
       "      <td>The customers word over yours</td>\n",
       "      <td>1</td>\n",
       "      <td>506</td>\n",
       "      <td>91</td>\n",
       "    </tr>\n",
       "    <tr>\n",
       "      <th>4</th>\n",
       "      <td>Target</td>\n",
       "      <td>Anyone else scroll to the bottom of the commen...</td>\n",
       "      <td>Downvote scroll</td>\n",
       "      <td>1</td>\n",
       "      <td>141</td>\n",
       "      <td>27</td>\n",
       "    </tr>\n",
       "  </tbody>\n",
       "</table>\n",
       "</div>"
      ],
      "text/plain": [
       "  subreddit                                           selftext  \\\n",
       "0    Target                        Please bullseye, have mercy   \n",
       "1    Target  Hi everyone! My first orientation day is comin...   \n",
       "2    Target    Anyone else’s “leaders” act more like managers?   \n",
       "3    Target  My gf recently was threatened with termination...   \n",
       "4    Target  Anyone else scroll to the bottom of the commen...   \n",
       "\n",
       "                                             title  subreddit_indicator  \\\n",
       "0                      Please bullseye, have mercy                    1   \n",
       "1                       What to wear on first day?                    1   \n",
       "2  Anyone else’s “leaders” act more like managers?                    1   \n",
       "3                    The customers word over yours                    1   \n",
       "4                                  Downvote scroll                    1   \n",
       "\n",
       "   selftext_length  selftext_word_count  \n",
       "0               27                    4  \n",
       "1              241                   46  \n",
       "2               47                    7  \n",
       "3              506                   91  \n",
       "4              141                   27  "
      ]
     },
     "execution_count": 176,
     "metadata": {},
     "output_type": "execute_result"
    }
   ],
   "source": [
    "df.head()"
   ]
  },
  {
   "cell_type": "code",
   "execution_count": 177,
   "metadata": {},
   "outputs": [],
   "source": [
    "X = df['selftext']\n",
    "y = df['subreddit_indicator']"
   ]
  },
  {
   "cell_type": "code",
   "execution_count": 178,
   "metadata": {},
   "outputs": [],
   "source": [
    "# Train/test split\n",
    "\n",
    "X_train, X_test, y_train, y_test = train_test_split(X, y, test_size = 0.3, random_state = 42, stratify = y)"
   ]
  },
  {
   "cell_type": "code",
   "execution_count": 179,
   "metadata": {},
   "outputs": [
    {
     "data": {
      "text/plain": [
       "1    0.5\n",
       "0    0.5\n",
       "Name: subreddit_indicator, dtype: float64"
      ]
     },
     "execution_count": 179,
     "metadata": {},
     "output_type": "execute_result"
    }
   ],
   "source": [
    "# This is the baseline.\n",
    "\n",
    "y.value_counts(normalize=True)"
   ]
  },
  {
   "cell_type": "markdown",
   "metadata": {},
   "source": [
    "## Methodology\n",
    "\n",
    "In this analysis, I compared three classification models (Logistic Regression, Random Forest, Voting Classifer) and measured their performance. As seen during EDA portion of the analysis, to see the impact of how much those \"keywords\" play a role, I decided to run two scenarios where I fit the model WITH stopwords & keywords and WITHOUT stopwords & keywords. I also decided to applying two transformers CountVectorizer and TfidVectorizer to see which combination of model & transformer perform the best.\n",
    "\n",
    "**Stopwords & Keywords Included:**\n",
    "* Logistic Regression w/ Bagging\n",
    "* Random Forest\n",
    "* Voting Classifier (Gradient, Ada, XG)\n",
    "\n",
    "\n",
    "**Stopwords & Keywords Excluded:**\n",
    "* Logistic Regression w/ Bagging\n",
    "* Random Forest\n",
    "* Voting Classifier (Gradient, Ada, XG)"
   ]
  },
  {
   "cell_type": "markdown",
   "metadata": {},
   "source": [
    "## Logistic Regression w/ Bagging"
   ]
  },
  {
   "cell_type": "code",
   "execution_count": 33,
   "metadata": {},
   "outputs": [],
   "source": [
    "# Setting up transformers including stopwords\n",
    "cvec = CountVectorizer()\n",
    "tfid = TfidfVectorizer()\n",
    "\n",
    "# Setting up transformers excluding stopwords\n",
    "cvec_stopwords = CountVectorizer(stop_words=cvec_stopwords_modified)\n",
    "tfid_stopwords = TfidfVectorizer(stop_words=tfid_stopwords_modified)"
   ]
  },
  {
   "cell_type": "code",
   "execution_count": 34,
   "metadata": {},
   "outputs": [],
   "source": [
    "# Transforming X using Cvec and Tfid including stopwords\n",
    "Z_cvec_train = cvec.fit_transform(X_train)\n",
    "Z_cvec_test = cvec.transform(X_test)\n",
    "Z_tfid_train = tfid.fit_transform(X_train)\n",
    "Z_tfid_test = tfid.transform(X_test)\n",
    "\n",
    "# Transforming X using Cvec and Tfid excluding stopwords\n",
    "Z_cvec_stopwords_train = cvec_stopwords.fit_transform(X_train)\n",
    "Z_cvec_stopwords_test = cvec_stopwords.transform(X_test)\n",
    "Z_tfid_stopwords_train = tfid_stopwords.fit_transform(X_train)\n",
    "Z_tfid_stopwords_test = tfid_stopwords.transform(X_test)"
   ]
  },
  {
   "cell_type": "code",
   "execution_count": 35,
   "metadata": {},
   "outputs": [],
   "source": [
    "# Creating BaggingClassifier using Logistic Regression as base_estimator for the four scenarios for tracking purposes\n",
    "\n",
    "baglog_cvec = BaggingClassifier(n_estimators = 100, base_estimator = LogisticRegression(max_iter = 5000))\n",
    "baglog_tfid = BaggingClassifier(n_estimators = 100, base_estimator = LogisticRegression(max_iter = 5000))\n",
    "baglog_cvec_stopwords = BaggingClassifier(n_estimators = 100, base_estimator = LogisticRegression(max_iter = 5000))\n",
    "baglog_tfid_stopwords = BaggingClassifier(n_estimators = 100, base_estimator = LogisticRegression(max_iter = 5000))"
   ]
  },
  {
   "cell_type": "markdown",
   "metadata": {},
   "source": [
    "### Logistic Regression - CountVectorizer (Including stopwords & keywords)"
   ]
  },
  {
   "cell_type": "code",
   "execution_count": 36,
   "metadata": {},
   "outputs": [
    {
     "data": {
      "text/plain": [
       "BaggingClassifier(base_estimator=LogisticRegression(max_iter=5000),\n",
       "                  n_estimators=100)"
      ]
     },
     "execution_count": 36,
     "metadata": {},
     "output_type": "execute_result"
    }
   ],
   "source": [
    "baglog_cvec.fit(Z_cvec_train, y_train)"
   ]
  },
  {
   "cell_type": "code",
   "execution_count": 37,
   "metadata": {},
   "outputs": [
    {
     "data": {
      "text/plain": [
       "0.9268571428571428"
      ]
     },
     "execution_count": 37,
     "metadata": {},
     "output_type": "execute_result"
    }
   ],
   "source": [
    "baglog_cvec.score(Z_cvec_train, y_train)"
   ]
  },
  {
   "cell_type": "code",
   "execution_count": 38,
   "metadata": {},
   "outputs": [
    {
     "data": {
      "text/plain": [
       "0.7616666666666667"
      ]
     },
     "execution_count": 38,
     "metadata": {},
     "output_type": "execute_result"
    }
   ],
   "source": [
    "baglog_cvec_accuracy = accuracy_score(y_test, baglog_cvec.predict(Z_cvec_test))\n",
    "baglog_cvec_accuracy"
   ]
  },
  {
   "cell_type": "code",
   "execution_count": 39,
   "metadata": {},
   "outputs": [
    {
     "data": {
      "text/plain": [
       "0.762"
      ]
     },
     "execution_count": 39,
     "metadata": {},
     "output_type": "execute_result"
    }
   ],
   "source": [
    "baglog_cvec_recall = recall_score(y_test, baglog_cvec.predict(Z_cvec_test))\n",
    "baglog_cvec_recall"
   ]
  },
  {
   "cell_type": "code",
   "execution_count": 40,
   "metadata": {},
   "outputs": [
    {
     "data": {
      "text/plain": [
       "0.7614923384410394"
      ]
     },
     "execution_count": 40,
     "metadata": {},
     "output_type": "execute_result"
    }
   ],
   "source": [
    "baglog_cvec_precision = precision_score(y_test, baglog_cvec.predict(Z_cvec_test))\n",
    "baglog_cvec_precision"
   ]
  },
  {
   "cell_type": "code",
   "execution_count": 41,
   "metadata": {},
   "outputs": [
    {
     "data": {
      "text/plain": [
       "0.761746084638454"
      ]
     },
     "execution_count": 41,
     "metadata": {},
     "output_type": "execute_result"
    }
   ],
   "source": [
    "baglog_cvec_f1 = f1_score(y_test, baglog_cvec.predict(Z_cvec_test))\n",
    "baglog_cvec_f1"
   ]
  },
  {
   "cell_type": "code",
   "execution_count": 42,
   "metadata": {},
   "outputs": [
    {
     "data": {
      "text/plain": [
       "0.8656722222222222"
      ]
     },
     "execution_count": 42,
     "metadata": {},
     "output_type": "execute_result"
    }
   ],
   "source": [
    "baglog_cvec_roc = roc_auc_score(y_test, baglog_cvec.predict_proba(Z_cvec_test)[:,1])\n",
    "baglog_cvec_roc"
   ]
  },
  {
   "cell_type": "code",
   "execution_count": 43,
   "metadata": {},
   "outputs": [
    {
     "data": {
      "image/png": "[encoded data removed]",
      "text/plain": [
       "<Figure size 720x576 with 2 Axes>"
      ]
     },
     "metadata": {
      "needs_background": "light"
     },
     "output_type": "display_data"
    },
    {
     "data": {
      "image/png": "[encoded data removed]",
      "text/plain": [
       "<Figure size 720x576 with 1 Axes>"
      ]
     },
     "metadata": {
      "needs_background": "light"
     },
     "output_type": "display_data"
    }
   ],
   "source": [
    "fig, ax = plt.subplots(figsize=(10, 8))\n",
    "plot_confusion_matrix(baglog_cvec, Z_cvec_test, y_test, cmap='bone', ax=ax)\n",
    "plt.title('Confusion Matrix (Logistic - CountVectorizer): Including stopwords')\n",
    "\n",
    "fig, ax = plt.subplots(figsize=(10, 8))\n",
    "plot_roc_curve(baglog_cvec, Z_cvec_test, y_test, ax=ax)\n",
    "plt.plot([0, 1], [0, 1], label=\"baseline\", linestyle=\"--\")\n",
    "plt.legend()\n",
    "plt.title('ROC Curve (Logistic - CountVectorizer): Including stopwords');"
   ]
  },
  {
   "cell_type": "markdown",
   "metadata": {},
   "source": [
    "### Logistic Regression - TfidVectorizer (Including stopwords & stopwords)"
   ]
  },
  {
   "cell_type": "code",
   "execution_count": 44,
   "metadata": {},
   "outputs": [
    {
     "data": {
      "text/plain": [
       "BaggingClassifier(base_estimator=LogisticRegression(max_iter=5000),\n",
       "                  n_estimators=100)"
      ]
     },
     "execution_count": 44,
     "metadata": {},
     "output_type": "execute_result"
    }
   ],
   "source": [
    "baglog_tfid.fit(Z_tfid_train, y_train)"
   ]
  },
  {
   "cell_type": "code",
   "execution_count": 45,
   "metadata": {},
   "outputs": [
    {
     "data": {
      "text/plain": [
       "0.8811428571428571"
      ]
     },
     "execution_count": 45,
     "metadata": {},
     "output_type": "execute_result"
    }
   ],
   "source": [
    "baglog_tfid.score(Z_tfid_train, y_train)"
   ]
  },
  {
   "cell_type": "code",
   "execution_count": 46,
   "metadata": {},
   "outputs": [
    {
     "data": {
      "text/plain": [
       "0.7723333333333333"
      ]
     },
     "execution_count": 46,
     "metadata": {},
     "output_type": "execute_result"
    }
   ],
   "source": [
    "baglog_tfid.score(Z_tfid_test, y_test)"
   ]
  },
  {
   "cell_type": "code",
   "execution_count": 47,
   "metadata": {},
   "outputs": [
    {
     "data": {
      "text/plain": [
       "0.7723333333333333"
      ]
     },
     "execution_count": 47,
     "metadata": {},
     "output_type": "execute_result"
    }
   ],
   "source": [
    "baglog_tfid_accuracy = baglog_tfid.score(Z_tfid_test, y_test)\n",
    "baglog_tfid_accuracy"
   ]
  },
  {
   "cell_type": "code",
   "execution_count": 48,
   "metadata": {},
   "outputs": [
    {
     "data": {
      "text/plain": [
       "0.7626666666666667"
      ]
     },
     "execution_count": 48,
     "metadata": {},
     "output_type": "execute_result"
    }
   ],
   "source": [
    "baglog_tfid_recall = recall_score(y_test, baglog_tfid.predict(Z_tfid_test))\n",
    "baglog_tfid_recall"
   ]
  },
  {
   "cell_type": "code",
   "execution_count": 49,
   "metadata": {},
   "outputs": [
    {
     "data": {
      "text/plain": [
       "0.7777022433718559"
      ]
     },
     "execution_count": 49,
     "metadata": {},
     "output_type": "execute_result"
    }
   ],
   "source": [
    "baglog_tfid_precision = precision_score(y_test, baglog_tfid.predict(Z_tfid_test))\n",
    "baglog_tfid_precision"
   ]
  },
  {
   "cell_type": "code",
   "execution_count": 50,
   "metadata": {},
   "outputs": [
    {
     "data": {
      "text/plain": [
       "0.7701110737125547"
      ]
     },
     "execution_count": 50,
     "metadata": {},
     "output_type": "execute_result"
    }
   ],
   "source": [
    "baglog_tfid_f1 = f1_score(y_test, baglog_tfid.predict(Z_tfid_test))\n",
    "baglog_tfid_f1"
   ]
  },
  {
   "cell_type": "code",
   "execution_count": 51,
   "metadata": {},
   "outputs": [
    {
     "data": {
      "text/plain": [
       "0.8678522222222222"
      ]
     },
     "execution_count": 51,
     "metadata": {},
     "output_type": "execute_result"
    }
   ],
   "source": [
    "baglog_tfid_roc = roc_auc_score(y_test, baglog_tfid.predict_proba(Z_tfid_test)[:,1])\n",
    "baglog_tfid_roc"
   ]
  },
  {
   "cell_type": "code",
   "execution_count": 52,
   "metadata": {},
   "outputs": [
    {
     "data": {
      "image/png": "[encoded data removed]",
      "text/plain": [
       "<Figure size 720x576 with 2 Axes>"
      ]
     },
     "metadata": {
      "needs_background": "light"
     },
     "output_type": "display_data"
    },
    {
     "data": {
      "image/png": "[encoded data removed]",
      "text/plain": [
       "<Figure size 720x576 with 1 Axes>"
      ]
     },
     "metadata": {
      "needs_background": "light"
     },
     "output_type": "display_data"
    }
   ],
   "source": [
    "fig, ax = plt.subplots(figsize=(10, 8))\n",
    "plot_confusion_matrix(baglog_tfid, Z_tfid_test, y_test, cmap='bone', ax=ax)\n",
    "plt.title('Confusion Matrix (Logistic - TfidVectorizer): Including stopwords')\n",
    "\n",
    "fig, ax = plt.subplots(figsize=(10, 8))\n",
    "plot_roc_curve(baglog_tfid, Z_tfid_test, y_test, ax=ax)\n",
    "plt.plot([0, 1], [0, 1], label=\"baseline\", linestyle=\"--\")\n",
    "plt.legend()\n",
    "plt.title('ROC Curve (Logistic - TfidVectorizer): Including stopwords');"
   ]
  },
  {
   "cell_type": "markdown",
   "metadata": {},
   "source": [
    "### Logistic Regression - CountVectorizer (Excluding stopwords & keywords)"
   ]
  },
  {
   "cell_type": "code",
   "execution_count": 53,
   "metadata": {},
   "outputs": [
    {
     "data": {
      "text/plain": [
       "BaggingClassifier(base_estimator=LogisticRegression(max_iter=5000),\n",
       "                  n_estimators=100)"
      ]
     },
     "execution_count": 53,
     "metadata": {},
     "output_type": "execute_result"
    }
   ],
   "source": [
    "baglog_cvec_stopwords.fit(Z_cvec_stopwords_train, y_train)"
   ]
  },
  {
   "cell_type": "code",
   "execution_count": 54,
   "metadata": {},
   "outputs": [
    {
     "data": {
      "text/plain": [
       "0.912"
      ]
     },
     "execution_count": 54,
     "metadata": {},
     "output_type": "execute_result"
    }
   ],
   "source": [
    "baglog_cvec_stopwords.score(Z_cvec_stopwords_train, y_train)"
   ]
  },
  {
   "cell_type": "code",
   "execution_count": 55,
   "metadata": {},
   "outputs": [
    {
     "data": {
      "text/plain": [
       "0.731"
      ]
     },
     "execution_count": 55,
     "metadata": {},
     "output_type": "execute_result"
    }
   ],
   "source": [
    "baglog_cvec_stopwords_accuracy = baglog_cvec_stopwords.score(Z_cvec_stopwords_test, y_test)\n",
    "baglog_cvec_stopwords_accuracy"
   ]
  },
  {
   "cell_type": "code",
   "execution_count": 56,
   "metadata": {},
   "outputs": [
    {
     "data": {
      "text/plain": [
       "0.742"
      ]
     },
     "execution_count": 56,
     "metadata": {},
     "output_type": "execute_result"
    }
   ],
   "source": [
    "baglog_cvec_stopwords_recall = recall_score(y_test, baglog_cvec_stopwords.predict(Z_cvec_stopwords_test))\n",
    "baglog_cvec_stopwords_recall"
   ]
  },
  {
   "cell_type": "code",
   "execution_count": 57,
   "metadata": {},
   "outputs": [
    {
     "data": {
      "text/plain": [
       "0.726027397260274"
      ]
     },
     "execution_count": 57,
     "metadata": {},
     "output_type": "execute_result"
    }
   ],
   "source": [
    "baglog_cvec_stopwords_precision = precision_score(y_test, baglog_cvec_stopwords.predict(Z_cvec_stopwords_test))\n",
    "baglog_cvec_stopwords_precision"
   ]
  },
  {
   "cell_type": "code",
   "execution_count": 58,
   "metadata": {},
   "outputs": [
    {
     "data": {
      "text/plain": [
       "0.7339268051434223"
      ]
     },
     "execution_count": 58,
     "metadata": {},
     "output_type": "execute_result"
    }
   ],
   "source": [
    "baglog_cvec_stopwords_f1 = f1_score(y_test, baglog_cvec_stopwords.predict(Z_cvec_stopwords_test))\n",
    "baglog_cvec_stopwords_f1"
   ]
  },
  {
   "cell_type": "code",
   "execution_count": 59,
   "metadata": {},
   "outputs": [
    {
     "data": {
      "text/plain": [
       "0.8175948888888889"
      ]
     },
     "execution_count": 59,
     "metadata": {},
     "output_type": "execute_result"
    }
   ],
   "source": [
    "baglog_cvec_stopwords_roc = roc_auc_score(y_test, baglog_cvec_stopwords.predict_proba(Z_cvec_stopwords_test)[:,1])\n",
    "baglog_cvec_stopwords_roc"
   ]
  },
  {
   "cell_type": "code",
   "execution_count": 60,
   "metadata": {},
   "outputs": [
    {
     "data": {
      "image/png": "[encoded data removed]",
      "text/plain": [
       "<Figure size 720x576 with 2 Axes>"
      ]
     },
     "metadata": {
      "needs_background": "light"
     },
     "output_type": "display_data"
    },
    {
     "data": {
      "image/png": "[encoded data removed]",
      "text/plain": [
       "<Figure size 720x576 with 1 Axes>"
      ]
     },
     "metadata": {
      "needs_background": "light"
     },
     "output_type": "display_data"
    }
   ],
   "source": [
    "fig, ax = plt.subplots(figsize=(10, 8))\n",
    "plot_confusion_matrix(baglog_cvec_stopwords, Z_cvec_stopwords_test, y_test, cmap='bone', ax=ax)\n",
    "plt.title('Confusion Matrix (Logistic - CountVectorizer): Excluding stopwords')\n",
    "\n",
    "fig, ax = plt.subplots(figsize=(10, 8))\n",
    "plot_roc_curve(baglog_cvec_stopwords, Z_cvec_stopwords_test, y_test, ax=ax)\n",
    "plt.plot([0, 1], [0, 1], label=\"baseline\", linestyle=\"--\")\n",
    "plt.legend()\n",
    "plt.title('ROC Curve (Logistic - CountVectorizer): Excluding stopwords');"
   ]
  },
  {
   "cell_type": "markdown",
   "metadata": {},
   "source": [
    "### Logistic Regression - TfidVectorizer (Excluding stopwords & keywords)"
   ]
  },
  {
   "cell_type": "code",
   "execution_count": 61,
   "metadata": {},
   "outputs": [
    {
     "data": {
      "text/plain": [
       "BaggingClassifier(base_estimator=LogisticRegression(max_iter=5000),\n",
       "                  n_estimators=100)"
      ]
     },
     "execution_count": 61,
     "metadata": {},
     "output_type": "execute_result"
    }
   ],
   "source": [
    "baglog_tfid_stopwords.fit(Z_tfid_stopwords_train, y_train)"
   ]
  },
  {
   "cell_type": "code",
   "execution_count": 62,
   "metadata": {},
   "outputs": [
    {
     "data": {
      "text/plain": [
       "0.8705714285714286"
      ]
     },
     "execution_count": 62,
     "metadata": {},
     "output_type": "execute_result"
    }
   ],
   "source": [
    "baglog_tfid_stopwords.score(Z_tfid_stopwords_train, y_train)"
   ]
  },
  {
   "cell_type": "code",
   "execution_count": 63,
   "metadata": {},
   "outputs": [
    {
     "data": {
      "text/plain": [
       "0.734"
      ]
     },
     "execution_count": 63,
     "metadata": {},
     "output_type": "execute_result"
    }
   ],
   "source": [
    "baglog_tfid_stopwords_accuracy = baglog_tfid_stopwords.score(Z_tfid_stopwords_test, y_test)\n",
    "baglog_tfid_stopwords_accuracy\n"
   ]
  },
  {
   "cell_type": "code",
   "execution_count": 64,
   "metadata": {},
   "outputs": [
    {
     "data": {
      "text/plain": [
       "0.7326666666666667"
      ]
     },
     "execution_count": 64,
     "metadata": {},
     "output_type": "execute_result"
    }
   ],
   "source": [
    "baglog_tfid_stopwords_recall = recall_score(y_test, baglog_tfid_stopwords.predict(Z_tfid_stopwords_test))\n",
    "baglog_tfid_stopwords_recall"
   ]
  },
  {
   "cell_type": "code",
   "execution_count": 65,
   "metadata": {},
   "outputs": [
    {
     "data": {
      "text/plain": [
       "0.7346256684491979"
      ]
     },
     "execution_count": 65,
     "metadata": {},
     "output_type": "execute_result"
    }
   ],
   "source": [
    "baglog_tfid_stopwords_precision = precision_score(y_test, baglog_tfid_stopwords.predict(Z_tfid_stopwords_test))\n",
    "baglog_tfid_stopwords_precision"
   ]
  },
  {
   "cell_type": "code",
   "execution_count": 66,
   "metadata": {},
   "outputs": [
    {
     "data": {
      "text/plain": [
       "0.7336448598130842"
      ]
     },
     "execution_count": 66,
     "metadata": {},
     "output_type": "execute_result"
    }
   ],
   "source": [
    "baglog_tfid_stopwords_f1 = f1_score(y_test, baglog_tfid_stopwords.predict(Z_tfid_stopwords_test))\n",
    "baglog_tfid_stopwords_f1"
   ]
  },
  {
   "cell_type": "code",
   "execution_count": 67,
   "metadata": {},
   "outputs": [
    {
     "data": {
      "text/plain": [
       "0.8226211111111112"
      ]
     },
     "execution_count": 67,
     "metadata": {},
     "output_type": "execute_result"
    }
   ],
   "source": [
    "baglog_tfid_stopwords_roc = roc_auc_score(y_test, baglog_tfid_stopwords.predict_proba(Z_tfid_stopwords_test)[:,1])\n",
    "baglog_tfid_stopwords_roc"
   ]
  },
  {
   "cell_type": "code",
   "execution_count": 68,
   "metadata": {},
   "outputs": [
    {
     "data": {
      "image/png": "[encoded data removed]",
      "text/plain": [
       "<Figure size 720x576 with 2 Axes>"
      ]
     },
     "metadata": {
      "needs_background": "light"
     },
     "output_type": "display_data"
    },
    {
     "data": {
      "image/png": "[encoded data removed]",
      "text/plain": [
       "<Figure size 720x576 with 1 Axes>"
      ]
     },
     "metadata": {
      "needs_background": "light"
     },
     "output_type": "display_data"
    }
   ],
   "source": [
    "fig, ax = plt.subplots(figsize=(10, 8))\n",
    "plot_confusion_matrix(baglog_tfid_stopwords, Z_tfid_stopwords_test, y_test, cmap='bone', ax=ax)\n",
    "plt.title('Confusion Matrix (Logistic - TfidVectorizer): Excluding stopwords')\n",
    "\n",
    "fig, ax = plt.subplots(figsize=(10, 8))\n",
    "plot_roc_curve(baglog_tfid_stopwords, Z_tfid_stopwords_test, y_test, ax=ax)\n",
    "plt.plot([0, 1], [0, 1], label=\"baseline\", linestyle=\"--\")\n",
    "plt.legend()\n",
    "plt.title('ROC Curve (Logistic - TfidVectorizer): Excluding stopwords');"
   ]
  },
  {
   "cell_type": "markdown",
   "metadata": {},
   "source": [
    "## Logistic Regression w/Bagging Summary\n",
    "\n",
    "For Logistic Regression, I decided to apply the bagging technique to enhance the model performance. I explored four different scenarios of deploying both CountVectorizer and TfidVectorizer, including and exluding stopwords & keywords. Logistic Regression coupled with bagging produced accuracy scores in all four scenarios which hovered around 72-77% and roc auc score in the 80-86% range. Within Logistic Regression combinations, Logistic Regression with TfidVectorizer performed the best in both accuracy and roc auc."
   ]
  },
  {
   "cell_type": "code",
   "execution_count": 292,
   "metadata": {},
   "outputs": [
    {
     "data": {
      "text/html": [
       "<div>\n",
       "<style scoped>\n",
       "    .dataframe tbody tr th:only-of-type {\n",
       "        vertical-align: middle;\n",
       "    }\n",
       "\n",
       "    .dataframe tbody tr th {\n",
       "        vertical-align: top;\n",
       "    }\n",
       "\n",
       "    .dataframe thead th {\n",
       "        text-align: right;\n",
       "    }\n",
       "</style>\n",
       "<table border=\"1\" class=\"dataframe\">\n",
       "  <thead>\n",
       "    <tr style=\"text-align: right;\">\n",
       "      <th></th>\n",
       "      <th>Transformer</th>\n",
       "      <th>Stopwords</th>\n",
       "      <th>Accuracy</th>\n",
       "      <th>Recall</th>\n",
       "      <th>Precision</th>\n",
       "      <th>F1</th>\n",
       "      <th>ROC</th>\n",
       "    </tr>\n",
       "    <tr>\n",
       "      <th>Model</th>\n",
       "      <th></th>\n",
       "      <th></th>\n",
       "      <th></th>\n",
       "      <th></th>\n",
       "      <th></th>\n",
       "      <th></th>\n",
       "      <th></th>\n",
       "    </tr>\n",
       "  </thead>\n",
       "  <tbody>\n",
       "    <tr>\n",
       "      <th>Log</th>\n",
       "      <td>Cvec</td>\n",
       "      <td>Y</td>\n",
       "      <td>0.761667</td>\n",
       "      <td>0.762000</td>\n",
       "      <td>0.761492</td>\n",
       "      <td>0.761746</td>\n",
       "      <td>0.865672</td>\n",
       "    </tr>\n",
       "    <tr>\n",
       "      <th>Log</th>\n",
       "      <td>Tfid</td>\n",
       "      <td>Y</td>\n",
       "      <td>0.772333</td>\n",
       "      <td>0.762667</td>\n",
       "      <td>0.777702</td>\n",
       "      <td>0.770111</td>\n",
       "      <td>0.867852</td>\n",
       "    </tr>\n",
       "    <tr>\n",
       "      <th>Log</th>\n",
       "      <td>Cvec</td>\n",
       "      <td>N</td>\n",
       "      <td>0.731000</td>\n",
       "      <td>0.742000</td>\n",
       "      <td>0.726027</td>\n",
       "      <td>0.733927</td>\n",
       "      <td>0.817595</td>\n",
       "    </tr>\n",
       "    <tr>\n",
       "      <th>Log</th>\n",
       "      <td>Tfid</td>\n",
       "      <td>N</td>\n",
       "      <td>0.734000</td>\n",
       "      <td>0.732667</td>\n",
       "      <td>0.734626</td>\n",
       "      <td>0.733645</td>\n",
       "      <td>0.822621</td>\n",
       "    </tr>\n",
       "  </tbody>\n",
       "</table>\n",
       "</div>"
      ],
      "text/plain": [
       "      Transformer Stopwords  Accuracy    Recall  Precision        F1       ROC\n",
       "Model                                                                         \n",
       "Log          Cvec         Y  0.761667  0.762000   0.761492  0.761746  0.865672\n",
       "Log          Tfid         Y  0.772333  0.762667   0.777702  0.770111  0.867852\n",
       "Log          Cvec         N  0.731000  0.742000   0.726027  0.733927  0.817595\n",
       "Log          Tfid         N  0.734000  0.732667   0.734626  0.733645  0.822621"
      ]
     },
     "execution_count": 292,
     "metadata": {},
     "output_type": "execute_result"
    }
   ],
   "source": [
    "baglog_summary_data = {\n",
    "    'Model' : ['Log', 'Log', 'Log', 'Log'],\n",
    "    'Transformer' : ['Cvec', 'Tfid', 'Cvec', 'Tfid'],\n",
    "    'Stopwords' : ['Y','Y','N','N'],\n",
    "    'Accuracy' :[baglog_cvec_accuracy, baglog_tfid_accuracy, baglog_cvec_stopwords_accuracy, baglog_tfid_stopwords_accuracy],\n",
    "    'Recall' : [baglog_cvec_recall, baglog_tfid_recall, baglog_cvec_stopwords_recall, baglog_tfid_stopwords_recall],\n",
    "    'Precision' : [baglog_cvec_precision, baglog_tfid_precision, baglog_cvec_stopwords_precision, baglog_tfid_stopwords_precision],\n",
    "    'F1' : [baglog_cvec_f1, baglog_tfid_f1,  baglog_cvec_stopwords_f1, baglog_tfid_stopwords_f1],\n",
    "    'ROC' : [baglog_cvec_roc, baglog_tfid_roc, baglog_cvec_stopwords_roc, baglog_tfid_stopwords_roc]\n",
    "    \n",
    "}\n",
    "\n",
    "baglog_summary = pd.DataFrame(baglog_summary_data).set_index('Model')\n",
    "baglog_summary"
   ]
  },
  {
   "cell_type": "markdown",
   "metadata": {},
   "source": [
    "## Random Forests"
   ]
  },
  {
   "cell_type": "code",
   "execution_count": 70,
   "metadata": {},
   "outputs": [
    {
     "data": {
      "text/plain": [
       "{'bootstrap': True,\n",
       " 'ccp_alpha': 0.0,\n",
       " 'class_weight': None,\n",
       " 'criterion': 'gini',\n",
       " 'max_depth': None,\n",
       " 'max_features': 'auto',\n",
       " 'max_leaf_nodes': None,\n",
       " 'max_samples': None,\n",
       " 'min_impurity_decrease': 0.0,\n",
       " 'min_impurity_split': None,\n",
       " 'min_samples_leaf': 1,\n",
       " 'min_samples_split': 2,\n",
       " 'min_weight_fraction_leaf': 0.0,\n",
       " 'n_estimators': 100,\n",
       " 'n_jobs': None,\n",
       " 'oob_score': False,\n",
       " 'random_state': None,\n",
       " 'verbose': 0,\n",
       " 'warm_start': False}"
      ]
     },
     "execution_count": 70,
     "metadata": {},
     "output_type": "execute_result"
    }
   ],
   "source": [
    "# Getting params for Random Forests\n",
    "\n",
    "rf = RandomForestClassifier()\n",
    "rf.get_params()"
   ]
  },
  {
   "cell_type": "markdown",
   "metadata": {},
   "source": [
    "### Random Forests - CountVectorizer (Including stopwords)"
   ]
  },
  {
   "cell_type": "code",
   "execution_count": 71,
   "metadata": {},
   "outputs": [],
   "source": [
    "# Params setup\n",
    "\n",
    "rf_cvec_params = {\n",
    "    'n_estimators' : [250, 350, 450],\n",
    "    'max_depth' : [None, 2, 3, 4],\n",
    "    'max_features' : ['auto', 'log2'],\n",
    "    'min_samples_split' : [4, 5, 6],\n",
    "    'min_samples_leaf' : [2, 3]\n",
    "    \n",
    "}"
   ]
  },
  {
   "cell_type": "code",
   "execution_count": 75,
   "metadata": {},
   "outputs": [],
   "source": [
    "gs_rf_cvec = GridSearchCV(rf, \n",
    "                         param_grid = rf_cvec_params,\n",
    "                         cv=5,\n",
    "                         verbose=1,\n",
    "                         n_jobs = 7)"
   ]
  },
  {
   "cell_type": "code",
   "execution_count": 76,
   "metadata": {},
   "outputs": [
    {
     "name": "stdout",
     "output_type": "stream",
     "text": [
      "Fitting 5 folds for each of 144 candidates, totalling 720 fits\n"
     ]
    },
    {
     "name": "stderr",
     "output_type": "stream",
     "text": [
      "[Parallel(n_jobs=7)]: Using backend LokyBackend with 7 concurrent workers.\n",
      "[Parallel(n_jobs=7)]: Done  36 tasks      | elapsed:  4.7min\n",
      "[Parallel(n_jobs=7)]: Done 186 tasks      | elapsed: 12.3min\n",
      "[Parallel(n_jobs=7)]: Done 436 tasks      | elapsed: 14.5min\n",
      "[Parallel(n_jobs=7)]: Done 720 out of 720 | elapsed: 17.4min finished\n"
     ]
    },
    {
     "data": {
      "text/plain": [
       "GridSearchCV(cv=5, estimator=RandomForestClassifier(), n_jobs=7,\n",
       "             param_grid={'max_depth': [None, 2, 3, 4],\n",
       "                         'max_features': ['auto', 'log2'],\n",
       "                         'min_samples_leaf': [2, 3],\n",
       "                         'min_samples_split': [4, 5, 6],\n",
       "                         'n_estimators': [250, 350, 450]},\n",
       "             verbose=1)"
      ]
     },
     "execution_count": 76,
     "metadata": {},
     "output_type": "execute_result"
    }
   ],
   "source": [
    "gs_rf_cvec.fit(Z_cvec_train, y_train)"
   ]
  },
  {
   "cell_type": "code",
   "execution_count": 77,
   "metadata": {},
   "outputs": [
    {
     "data": {
      "text/plain": [
       "RandomForestClassifier(min_samples_leaf=2, min_samples_split=4,\n",
       "                       n_estimators=450)"
      ]
     },
     "execution_count": 77,
     "metadata": {},
     "output_type": "execute_result"
    }
   ],
   "source": [
    "gs_rf_cvec.best_estimator_"
   ]
  },
  {
   "cell_type": "code",
   "execution_count": 78,
   "metadata": {},
   "outputs": [
    {
     "data": {
      "text/plain": [
       "{'max_depth': None,\n",
       " 'max_features': 'auto',\n",
       " 'min_samples_leaf': 2,\n",
       " 'min_samples_split': 4,\n",
       " 'n_estimators': 450}"
      ]
     },
     "execution_count": 78,
     "metadata": {},
     "output_type": "execute_result"
    }
   ],
   "source": [
    "gs_rf_cvec.best_params_"
   ]
  },
  {
   "cell_type": "code",
   "execution_count": 79,
   "metadata": {},
   "outputs": [
    {
     "data": {
      "text/plain": [
       "0.7664285714285713"
      ]
     },
     "execution_count": 79,
     "metadata": {},
     "output_type": "execute_result"
    }
   ],
   "source": [
    "gs_rf_cvec.best_score_"
   ]
  },
  {
   "cell_type": "code",
   "execution_count": 80,
   "metadata": {},
   "outputs": [
    {
     "data": {
      "text/plain": [
       "0.7743333333333333"
      ]
     },
     "execution_count": 80,
     "metadata": {},
     "output_type": "execute_result"
    }
   ],
   "source": [
    "gs_rf_cvec_accuracy = accuracy_score(y_test, gs_rf_cvec.predict(Z_cvec_test))\n",
    "gs_rf_cvec_accuracy"
   ]
  },
  {
   "cell_type": "code",
   "execution_count": 81,
   "metadata": {},
   "outputs": [
    {
     "data": {
      "text/plain": [
       "0.828"
      ]
     },
     "execution_count": 81,
     "metadata": {},
     "output_type": "execute_result"
    }
   ],
   "source": [
    "gs_rf_cvec_recall = recall_score(y_test, gs_rf_cvec.predict(Z_cvec_test))\n",
    "gs_rf_cvec_recall"
   ]
  },
  {
   "cell_type": "code",
   "execution_count": 82,
   "metadata": {},
   "outputs": [
    {
     "data": {
      "text/plain": [
       "0.7477423239012643"
      ]
     },
     "execution_count": 82,
     "metadata": {},
     "output_type": "execute_result"
    }
   ],
   "source": [
    "gs_rf_cvec_precision = precision_score(y_test, gs_rf_cvec.predict(Z_cvec_test))\n",
    "gs_rf_cvec_precision"
   ]
  },
  {
   "cell_type": "code",
   "execution_count": 83,
   "metadata": {},
   "outputs": [
    {
     "data": {
      "text/plain": [
       "0.7858272698513128"
      ]
     },
     "execution_count": 83,
     "metadata": {},
     "output_type": "execute_result"
    }
   ],
   "source": [
    "gs_rf_cvec_f1 = f1_score(y_test, gs_rf_cvec.predict(Z_cvec_test))\n",
    "gs_rf_cvec_f1"
   ]
  },
  {
   "cell_type": "code",
   "execution_count": 84,
   "metadata": {},
   "outputs": [
    {
     "data": {
      "text/plain": [
       "0.8770346666666666"
      ]
     },
     "execution_count": 84,
     "metadata": {},
     "output_type": "execute_result"
    }
   ],
   "source": [
    "gs_rf_cvec_roc = roc_auc_score(y_test, gs_rf_cvec.predict_proba(Z_cvec_test)[:,1])\n",
    "gs_rf_cvec_roc"
   ]
  },
  {
   "cell_type": "code",
   "execution_count": 342,
   "metadata": {},
   "outputs": [
    {
     "data": {
      "image/png": "[encoded data removed]",
      "text/plain": [
       "<Figure size 864x864 with 2 Axes>"
      ]
     },
     "metadata": {
      "needs_background": "light"
     },
     "output_type": "display_data"
    },
    {
     "data": {
      "image/png": "[encoded data removed]",
      "text/plain": [
       "<Figure size 864x864 with 1 Axes>"
      ]
     },
     "metadata": {
      "needs_background": "light"
     },
     "output_type": "display_data"
    }
   ],
   "source": [
    "fig, ax = plt.subplots(figsize=(12,12))\n",
    "plot_confusion_matrix(gs_rf_cvec, Z_cvec_test, y_test, cmap='bone', ax=ax)\n",
    "plt.title('Confusion Matrix (Random Forests - CountVectorizer): Including stopwords')\n",
    "\n",
    "fig, ax = plt.subplots(figsize=(12,12))\n",
    "plot_roc_curve(gs_rf_cvec, Z_cvec_test, y_test, ax=ax)\n",
    "plt.plot([0, 1], [0, 1], label=\"baseline\", linestyle=\"--\")\n",
    "plt.legend()\n",
    "plt.title('ROC Curve (Random Forests - CountVectorizer): Including stopwords');"
   ]
  },
  {
   "cell_type": "markdown",
   "metadata": {},
   "source": [
    "### Random Forests - TfidVectorizer (Including stopwords)"
   ]
  },
  {
   "cell_type": "code",
   "execution_count": 86,
   "metadata": {},
   "outputs": [],
   "source": [
    "# Params setup\n",
    "\n",
    "rf_tfid_params = {\n",
    "    'n_estimators' : [250, 350, 450],\n",
    "    'max_depth' : [None, 1, 2],\n",
    "    'max_features' : ['auto', 'log2'],\n",
    "    'min_samples_split' : [2,3,4],\n",
    "    'min_samples_leaf' : [2,3]\n",
    "    \n",
    "}"
   ]
  },
  {
   "cell_type": "code",
   "execution_count": 87,
   "metadata": {},
   "outputs": [],
   "source": [
    "gs_rf_tfid = GridSearchCV(rf, \n",
    "                         param_grid = rf_tfid_params,\n",
    "                         cv=5,\n",
    "                         verbose=1,\n",
    "                         n_jobs = 7)"
   ]
  },
  {
   "cell_type": "code",
   "execution_count": 88,
   "metadata": {},
   "outputs": [
    {
     "name": "stdout",
     "output_type": "stream",
     "text": [
      "Fitting 5 folds for each of 108 candidates, totalling 540 fits\n"
     ]
    },
    {
     "name": "stderr",
     "output_type": "stream",
     "text": [
      "[Parallel(n_jobs=7)]: Using backend LokyBackend with 7 concurrent workers.\n",
      "[Parallel(n_jobs=7)]: Done  36 tasks      | elapsed:  5.0min\n",
      "[Parallel(n_jobs=7)]: Done 186 tasks      | elapsed: 13.4min\n",
      "[Parallel(n_jobs=7)]: Done 436 tasks      | elapsed: 15.7min\n",
      "[Parallel(n_jobs=7)]: Done 540 out of 540 | elapsed: 16.4min finished\n"
     ]
    },
    {
     "data": {
      "text/plain": [
       "GridSearchCV(cv=5, estimator=RandomForestClassifier(), n_jobs=7,\n",
       "             param_grid={'max_depth': [None, 1, 2],\n",
       "                         'max_features': ['auto', 'log2'],\n",
       "                         'min_samples_leaf': [2, 3],\n",
       "                         'min_samples_split': [2, 3, 4],\n",
       "                         'n_estimators': [250, 350, 450]},\n",
       "             verbose=1)"
      ]
     },
     "execution_count": 88,
     "metadata": {},
     "output_type": "execute_result"
    }
   ],
   "source": [
    "gs_rf_tfid.fit(Z_tfid_train, y_train)"
   ]
  },
  {
   "cell_type": "code",
   "execution_count": 89,
   "metadata": {},
   "outputs": [
    {
     "data": {
      "text/plain": [
       "RandomForestClassifier(min_samples_leaf=3, n_estimators=250)"
      ]
     },
     "execution_count": 89,
     "metadata": {},
     "output_type": "execute_result"
    }
   ],
   "source": [
    "gs_rf_tfid.best_estimator_"
   ]
  },
  {
   "cell_type": "code",
   "execution_count": 90,
   "metadata": {},
   "outputs": [
    {
     "data": {
      "text/plain": [
       "{'max_depth': None,\n",
       " 'max_features': 'auto',\n",
       " 'min_samples_leaf': 3,\n",
       " 'min_samples_split': 2,\n",
       " 'n_estimators': 250}"
      ]
     },
     "execution_count": 90,
     "metadata": {},
     "output_type": "execute_result"
    }
   ],
   "source": [
    "gs_rf_tfid.best_params_"
   ]
  },
  {
   "cell_type": "code",
   "execution_count": 91,
   "metadata": {},
   "outputs": [
    {
     "data": {
      "text/plain": [
       "0.7607142857142857"
      ]
     },
     "execution_count": 91,
     "metadata": {},
     "output_type": "execute_result"
    }
   ],
   "source": [
    "gs_rf_tfid.best_score_"
   ]
  },
  {
   "cell_type": "code",
   "execution_count": 92,
   "metadata": {},
   "outputs": [
    {
     "data": {
      "text/plain": [
       "0.7703333333333333"
      ]
     },
     "execution_count": 92,
     "metadata": {},
     "output_type": "execute_result"
    }
   ],
   "source": [
    "gs_rf_tfid_accuracy = accuracy_score(y_test, gs_rf_tfid.predict(Z_tfid_test))\n",
    "gs_rf_tfid_accuracy"
   ]
  },
  {
   "cell_type": "code",
   "execution_count": 93,
   "metadata": {},
   "outputs": [
    {
     "data": {
      "text/plain": [
       "0.8093333333333333"
      ]
     },
     "execution_count": 93,
     "metadata": {},
     "output_type": "execute_result"
    }
   ],
   "source": [
    "gs_rf_tfid_recall = recall_score(y_test, gs_rf_tfid.predict(Z_tfid_test))\n",
    "gs_rf_tfid_recall"
   ]
  },
  {
   "cell_type": "code",
   "execution_count": 94,
   "metadata": {},
   "outputs": [
    {
     "data": {
      "text/plain": [
       "0.7507730364873222"
      ]
     },
     "execution_count": 94,
     "metadata": {},
     "output_type": "execute_result"
    }
   ],
   "source": [
    "gs_rf_tfid_precision = precision_score(y_test, gs_rf_tfid.predict(Z_tfid_test))\n",
    "gs_rf_tfid_precision"
   ]
  },
  {
   "cell_type": "code",
   "execution_count": 95,
   "metadata": {},
   "outputs": [
    {
     "data": {
      "text/plain": [
       "0.7789541225537375"
      ]
     },
     "execution_count": 95,
     "metadata": {},
     "output_type": "execute_result"
    }
   ],
   "source": [
    "gs_rf_tfid_f1 = f1_score(y_test, gs_rf_tfid.predict(Z_tfid_test))\n",
    "gs_rf_tfid_f1"
   ]
  },
  {
   "cell_type": "code",
   "execution_count": 96,
   "metadata": {},
   "outputs": [
    {
     "data": {
      "text/plain": [
       "0.8703093333333334"
      ]
     },
     "execution_count": 96,
     "metadata": {},
     "output_type": "execute_result"
    }
   ],
   "source": [
    "gs_rf_tfid_roc = roc_auc_score(y_test, gs_rf_tfid.predict_proba(Z_tfid_test)[:,1])\n",
    "gs_rf_tfid_roc"
   ]
  },
  {
   "cell_type": "code",
   "execution_count": 97,
   "metadata": {},
   "outputs": [
    {
     "data": {
      "image/png": "[encoded data removed]",
      "text/plain": [
       "<Figure size 720x576 with 2 Axes>"
      ]
     },
     "metadata": {
      "needs_background": "light"
     },
     "output_type": "display_data"
    },
    {
     "data": {
      "image/png": "[encoded data removed]",
      "text/plain": [
       "<Figure size 720x576 with 1 Axes>"
      ]
     },
     "metadata": {
      "needs_background": "light"
     },
     "output_type": "display_data"
    }
   ],
   "source": [
    "fig, ax = plt.subplots(figsize=(10, 8))\n",
    "plot_confusion_matrix(gs_rf_tfid, Z_tfid_test, y_test, cmap='bone', ax=ax)\n",
    "plt.title('Confusion Matrix (Random Forests - TfidVectorizer): Including stopwords')\n",
    "\n",
    "fig, ax = plt.subplots(figsize=(10, 8))\n",
    "plot_roc_curve(gs_rf_tfid, Z_tfid_test, y_test, ax=ax)\n",
    "plt.plot([0, 1], [0, 1], label=\"baseline\", linestyle=\"--\")\n",
    "plt.legend()\n",
    "plt.title('ROC Curve (Random Forests - TfidVectorizer): Excluding stopwords');"
   ]
  },
  {
   "cell_type": "markdown",
   "metadata": {},
   "source": [
    "### Random Forests - CountVectorizer (Excluding stopwords)"
   ]
  },
  {
   "cell_type": "code",
   "execution_count": 98,
   "metadata": {},
   "outputs": [],
   "source": [
    "# Params setup\n",
    "\n",
    "rf_cvec_stopwords_params = {\n",
    "    'n_estimators' : [250, 350, 450],\n",
    "    'max_depth' : [None, 1, 2],\n",
    "    'max_features' : ['auto', 'log2'],\n",
    "    'min_samples_split' : [3, 4, 5],\n",
    "    'min_samples_leaf' : [3, 4, 5]\n",
    "    \n",
    "}"
   ]
  },
  {
   "cell_type": "code",
   "execution_count": 99,
   "metadata": {},
   "outputs": [],
   "source": [
    "gs_rf_cvec_stopwords = GridSearchCV(rf, \n",
    "                         param_grid = rf_cvec_stopwords_params,\n",
    "                         cv=5,\n",
    "                         verbose=1,\n",
    "                         n_jobs = 7)\n",
    "                                    "
   ]
  },
  {
   "cell_type": "code",
   "execution_count": 100,
   "metadata": {},
   "outputs": [
    {
     "name": "stdout",
     "output_type": "stream",
     "text": [
      "Fitting 5 folds for each of 162 candidates, totalling 810 fits\n"
     ]
    },
    {
     "name": "stderr",
     "output_type": "stream",
     "text": [
      "[Parallel(n_jobs=7)]: Using backend LokyBackend with 7 concurrent workers.\n",
      "[Parallel(n_jobs=7)]: Done  36 tasks      | elapsed:  5.9min\n",
      "[Parallel(n_jobs=7)]: Done 186 tasks      | elapsed: 18.0min\n",
      "[Parallel(n_jobs=7)]: Done 436 tasks      | elapsed: 20.3min\n",
      "[Parallel(n_jobs=7)]: Done 786 tasks      | elapsed: 22.9min\n",
      "[Parallel(n_jobs=7)]: Done 810 out of 810 | elapsed: 23.1min finished\n"
     ]
    },
    {
     "data": {
      "text/plain": [
       "GridSearchCV(cv=5, estimator=RandomForestClassifier(), n_jobs=7,\n",
       "             param_grid={'max_depth': [None, 1, 2],\n",
       "                         'max_features': ['auto', 'log2'],\n",
       "                         'min_samples_leaf': [3, 4, 5],\n",
       "                         'min_samples_split': [3, 4, 5],\n",
       "                         'n_estimators': [250, 350, 450]},\n",
       "             verbose=1)"
      ]
     },
     "execution_count": 100,
     "metadata": {},
     "output_type": "execute_result"
    }
   ],
   "source": [
    "gs_rf_cvec_stopwords.fit(Z_cvec_stopwords_train, y_train)"
   ]
  },
  {
   "cell_type": "code",
   "execution_count": 101,
   "metadata": {},
   "outputs": [
    {
     "data": {
      "text/plain": [
       "RandomForestClassifier(min_samples_leaf=3, min_samples_split=4,\n",
       "                       n_estimators=250)"
      ]
     },
     "execution_count": 101,
     "metadata": {},
     "output_type": "execute_result"
    }
   ],
   "source": [
    "gs_rf_cvec_stopwords.best_estimator_"
   ]
  },
  {
   "cell_type": "code",
   "execution_count": 102,
   "metadata": {},
   "outputs": [
    {
     "data": {
      "text/plain": [
       "{'max_depth': None,\n",
       " 'max_features': 'auto',\n",
       " 'min_samples_leaf': 3,\n",
       " 'min_samples_split': 4,\n",
       " 'n_estimators': 250}"
      ]
     },
     "execution_count": 102,
     "metadata": {},
     "output_type": "execute_result"
    }
   ],
   "source": [
    "gs_rf_cvec_stopwords.best_params_"
   ]
  },
  {
   "cell_type": "code",
   "execution_count": 103,
   "metadata": {},
   "outputs": [
    {
     "data": {
      "text/plain": [
       "0.722"
      ]
     },
     "execution_count": 103,
     "metadata": {},
     "output_type": "execute_result"
    }
   ],
   "source": [
    "gs_rf_cvec_stopwords.best_score_"
   ]
  },
  {
   "cell_type": "code",
   "execution_count": 104,
   "metadata": {},
   "outputs": [
    {
     "data": {
      "text/plain": [
       "0.73"
      ]
     },
     "execution_count": 104,
     "metadata": {},
     "output_type": "execute_result"
    }
   ],
   "source": [
    "gs_rf_cvec_stopwords_accuracy = accuracy_score(y_test, gs_rf_cvec_stopwords.predict(Z_cvec_stopwords_test))\n",
    "gs_rf_cvec_stopwords_accuracy"
   ]
  },
  {
   "cell_type": "code",
   "execution_count": 105,
   "metadata": {},
   "outputs": [
    {
     "data": {
      "text/plain": [
       "0.806"
      ]
     },
     "execution_count": 105,
     "metadata": {},
     "output_type": "execute_result"
    }
   ],
   "source": [
    "gs_rf_cvec_stopwords_recall = recall_score(y_test, gs_rf_cvec_stopwords.predict(Z_cvec_stopwords_test))\n",
    "gs_rf_cvec_stopwords_recall"
   ]
  },
  {
   "cell_type": "code",
   "execution_count": 106,
   "metadata": {},
   "outputs": [
    {
     "data": {
      "text/plain": [
       "0.6996527777777778"
      ]
     },
     "execution_count": 106,
     "metadata": {},
     "output_type": "execute_result"
    }
   ],
   "source": [
    "gs_rf_cvec_stopwords_precision = precision_score(y_test, gs_rf_cvec_stopwords.predict(Z_cvec_stopwords_test))\n",
    "gs_rf_cvec_stopwords_precision"
   ]
  },
  {
   "cell_type": "code",
   "execution_count": 107,
   "metadata": {},
   "outputs": [
    {
     "data": {
      "text/plain": [
       "0.7490706319702602"
      ]
     },
     "execution_count": 107,
     "metadata": {},
     "output_type": "execute_result"
    }
   ],
   "source": [
    "gs_rf_cvec_stopwords_f1 = f1_score(y_test, gs_rf_cvec_stopwords.predict(Z_cvec_stopwords_test))\n",
    "gs_rf_cvec_stopwords_f1"
   ]
  },
  {
   "cell_type": "code",
   "execution_count": 108,
   "metadata": {},
   "outputs": [
    {
     "data": {
      "text/plain": [
       "0.8274482222222224"
      ]
     },
     "execution_count": 108,
     "metadata": {},
     "output_type": "execute_result"
    }
   ],
   "source": [
    "gs_rf_cvec_stopwords_roc = roc_auc_score(y_test, gs_rf_cvec_stopwords.predict_proba(Z_cvec_stopwords_test)[:,1])\n",
    "gs_rf_cvec_stopwords_roc"
   ]
  },
  {
   "cell_type": "code",
   "execution_count": 109,
   "metadata": {},
   "outputs": [
    {
     "data": {
      "image/png": "[encoded data removed]",
      "text/plain": [
       "<Figure size 720x576 with 2 Axes>"
      ]
     },
     "metadata": {
      "needs_background": "light"
     },
     "output_type": "display_data"
    },
    {
     "data": {
      "image/png": "[encoded data removed]",
      "text/plain": [
       "<Figure size 720x576 with 1 Axes>"
      ]
     },
     "metadata": {
      "needs_background": "light"
     },
     "output_type": "display_data"
    }
   ],
   "source": [
    "fig, ax = plt.subplots(figsize=(10, 8))\n",
    "plot_confusion_matrix(gs_rf_cvec_stopwords, Z_cvec_stopwords_test, y_test, cmap='bone', ax=ax)\n",
    "plt.title('Confusion Matrix (Random Forests - CountVectorizer): Excluding stopwords')\n",
    "\n",
    "fig, ax = plt.subplots(figsize=(10, 8))\n",
    "plot_roc_curve(gs_rf_cvec_stopwords, Z_cvec_stopwords_test, y_test, ax=ax)\n",
    "plt.plot([0, 1], [0, 1], label=\"baseline\", linestyle=\"--\")\n",
    "plt.legend()\n",
    "plt.title('ROC Curve (Random Forests - CountVectorizer): Excluding stopwords');"
   ]
  },
  {
   "cell_type": "markdown",
   "metadata": {},
   "source": [
    "### Random Forests - TfidVectorizer (Excluding stopwords)"
   ]
  },
  {
   "cell_type": "code",
   "execution_count": 110,
   "metadata": {},
   "outputs": [],
   "source": [
    "# Params setup\n",
    "\n",
    "rf_tfid_stopwords_params = {\n",
    "    'n_estimators' : [250, 350, 450],\n",
    "    'max_depth' : [None, 1, 2],\n",
    "    'max_features' : ['auto', 'log2'],\n",
    "    'min_samples_split' : [3, 4, 5],\n",
    "    'min_samples_leaf' : [2,3]\n",
    "    \n",
    "}"
   ]
  },
  {
   "cell_type": "code",
   "execution_count": 111,
   "metadata": {},
   "outputs": [],
   "source": [
    "gs_rf_tfid_stopwords = GridSearchCV(rf, \n",
    "                                    param_grid=rf_tfid_stopwords_params, \n",
    "                                    cv=5, \n",
    "                                    verbose=1,\n",
    "                                   n_jobs = 7)"
   ]
  },
  {
   "cell_type": "code",
   "execution_count": 112,
   "metadata": {},
   "outputs": [
    {
     "name": "stdout",
     "output_type": "stream",
     "text": [
      "Fitting 5 folds for each of 108 candidates, totalling 540 fits\n"
     ]
    },
    {
     "name": "stderr",
     "output_type": "stream",
     "text": [
      "[Parallel(n_jobs=7)]: Using backend LokyBackend with 7 concurrent workers.\n",
      "[Parallel(n_jobs=7)]: Done  36 tasks      | elapsed:  6.5min\n",
      "[Parallel(n_jobs=7)]: Done 186 tasks      | elapsed: 17.3min\n",
      "[Parallel(n_jobs=7)]: Done 436 tasks      | elapsed: 19.4min\n",
      "[Parallel(n_jobs=7)]: Done 540 out of 540 | elapsed: 20.2min finished\n"
     ]
    },
    {
     "data": {
      "text/plain": [
       "GridSearchCV(cv=5, estimator=RandomForestClassifier(), n_jobs=7,\n",
       "             param_grid={'max_depth': [None, 1, 2],\n",
       "                         'max_features': ['auto', 'log2'],\n",
       "                         'min_samples_leaf': [2, 3],\n",
       "                         'min_samples_split': [3, 4, 5],\n",
       "                         'n_estimators': [250, 350, 450]},\n",
       "             verbose=1)"
      ]
     },
     "execution_count": 112,
     "metadata": {},
     "output_type": "execute_result"
    }
   ],
   "source": [
    "gs_rf_tfid_stopwords.fit(Z_tfid_stopwords_train, y_train)"
   ]
  },
  {
   "cell_type": "code",
   "execution_count": 113,
   "metadata": {},
   "outputs": [
    {
     "data": {
      "text/plain": [
       "RandomForestClassifier(max_features='log2', min_samples_leaf=2,\n",
       "                       min_samples_split=4, n_estimators=450)"
      ]
     },
     "execution_count": 113,
     "metadata": {},
     "output_type": "execute_result"
    }
   ],
   "source": [
    "gs_rf_tfid_stopwords.best_estimator_"
   ]
  },
  {
   "cell_type": "code",
   "execution_count": 114,
   "metadata": {},
   "outputs": [
    {
     "data": {
      "text/plain": [
       "{'max_depth': None,\n",
       " 'max_features': 'log2',\n",
       " 'min_samples_leaf': 2,\n",
       " 'min_samples_split': 4,\n",
       " 'n_estimators': 450}"
      ]
     },
     "execution_count": 114,
     "metadata": {},
     "output_type": "execute_result"
    }
   ],
   "source": [
    "gs_rf_tfid_stopwords.best_params_"
   ]
  },
  {
   "cell_type": "code",
   "execution_count": 115,
   "metadata": {},
   "outputs": [
    {
     "data": {
      "text/plain": [
       "0.7255714285714286"
      ]
     },
     "execution_count": 115,
     "metadata": {},
     "output_type": "execute_result"
    }
   ],
   "source": [
    "gs_rf_tfid_stopwords.best_score_"
   ]
  },
  {
   "cell_type": "code",
   "execution_count": 116,
   "metadata": {},
   "outputs": [
    {
     "data": {
      "text/plain": [
       "0.716"
      ]
     },
     "execution_count": 116,
     "metadata": {},
     "output_type": "execute_result"
    }
   ],
   "source": [
    "gs_rf_tfid_stopwords_accuracy = accuracy_score(y_test, gs_rf_tfid_stopwords.predict(Z_tfid_stopwords_test))\n",
    "\n",
    "gs_rf_tfid_stopwords_accuracy"
   ]
  },
  {
   "cell_type": "code",
   "execution_count": 117,
   "metadata": {},
   "outputs": [
    {
     "data": {
      "text/plain": [
       "0.8013333333333333"
      ]
     },
     "execution_count": 117,
     "metadata": {},
     "output_type": "execute_result"
    }
   ],
   "source": [
    "gs_rf_tfid_stopwords_recall = recall_score(y_test, gs_rf_tfid_stopwords.predict(Z_tfid_stopwords_test))\n",
    "\n",
    "gs_rf_tfid_stopwords_recall"
   ]
  },
  {
   "cell_type": "code",
   "execution_count": 118,
   "metadata": {},
   "outputs": [
    {
     "data": {
      "text/plain": [
       "0.6845102505694761"
      ]
     },
     "execution_count": 118,
     "metadata": {},
     "output_type": "execute_result"
    }
   ],
   "source": [
    "gs_rf_tfid_stopwords_precision = precision_score(y_test, gs_rf_tfid_stopwords.predict(Z_tfid_stopwords_test))\n",
    "\n",
    "gs_rf_tfid_stopwords_precision"
   ]
  },
  {
   "cell_type": "code",
   "execution_count": 119,
   "metadata": {},
   "outputs": [
    {
     "data": {
      "text/plain": [
       "0.7383292383292384"
      ]
     },
     "execution_count": 119,
     "metadata": {},
     "output_type": "execute_result"
    }
   ],
   "source": [
    "gs_rf_tfid_stopwords_f1 = f1_score(y_test, gs_rf_tfid_stopwords.predict(Z_tfid_stopwords_test))\n",
    "\n",
    "gs_rf_tfid_stopwords_f1"
   ]
  },
  {
   "cell_type": "code",
   "execution_count": 120,
   "metadata": {},
   "outputs": [
    {
     "data": {
      "text/plain": [
       "0.8139733333333333"
      ]
     },
     "execution_count": 120,
     "metadata": {},
     "output_type": "execute_result"
    }
   ],
   "source": [
    "gs_rf_tfid_stopwords_roc = roc_auc_score(y_test, gs_rf_tfid_stopwords.predict_proba(Z_tfid_stopwords_test)[:,1])\n",
    "\n",
    "gs_rf_tfid_stopwords_roc"
   ]
  },
  {
   "cell_type": "code",
   "execution_count": 121,
   "metadata": {},
   "outputs": [
    {
     "data": {
      "image/png": "[encoded data removed]",
      "text/plain": [
       "<Figure size 720x576 with 2 Axes>"
      ]
     },
     "metadata": {
      "needs_background": "light"
     },
     "output_type": "display_data"
    },
    {
     "data": {
      "image/png": "[encoded data removed]",
      "text/plain": [
       "<Figure size 720x576 with 1 Axes>"
      ]
     },
     "metadata": {
      "needs_background": "light"
     },
     "output_type": "display_data"
    }
   ],
   "source": [
    "fig, ax = plt.subplots(figsize=(10, 8))\n",
    "plot_confusion_matrix(gs_rf_tfid_stopwords, Z_tfid_stopwords_test, y_test, cmap='bone', ax=ax)\n",
    "plt.title('Confusion Matrix (Random Forests - TfidVectorizer): Excluding stopwords')\n",
    "\n",
    "fig, ax = plt.subplots(figsize=(10, 8))\n",
    "plot_roc_curve(gs_rf_tfid_stopwords, Z_tfid_stopwords_test, y_test, ax=ax)\n",
    "plt.plot([0, 1], [0, 1], label=\"baseline\", linestyle=\"--\")\n",
    "plt.legend()\n",
    "plt.title('ROC Curve (Random Forests - TfidVectorizer): Excluding stopwords');"
   ]
  },
  {
   "cell_type": "markdown",
   "metadata": {},
   "source": [
    "## Random Forest Summary\n",
    "\n",
    "Random Foreset performed slightly better than Logistic Regression above with accuray scores in the 71-77% range and roc auc score in the 81-87% range. Within Random Forest combinations, Random Forest with CountVectorizer (including stopwords) performed the best. As we will see later down in the final summary, this combination performed the best out of all the possible combinations."
   ]
  },
  {
   "cell_type": "code",
   "execution_count": 293,
   "metadata": {},
   "outputs": [
    {
     "data": {
      "text/html": [
       "<div>\n",
       "<style scoped>\n",
       "    .dataframe tbody tr th:only-of-type {\n",
       "        vertical-align: middle;\n",
       "    }\n",
       "\n",
       "    .dataframe tbody tr th {\n",
       "        vertical-align: top;\n",
       "    }\n",
       "\n",
       "    .dataframe thead th {\n",
       "        text-align: right;\n",
       "    }\n",
       "</style>\n",
       "<table border=\"1\" class=\"dataframe\">\n",
       "  <thead>\n",
       "    <tr style=\"text-align: right;\">\n",
       "      <th></th>\n",
       "      <th>Transformer</th>\n",
       "      <th>Stopwords</th>\n",
       "      <th>Accuracy</th>\n",
       "      <th>Recall</th>\n",
       "      <th>Precision</th>\n",
       "      <th>F1</th>\n",
       "      <th>ROC</th>\n",
       "    </tr>\n",
       "    <tr>\n",
       "      <th>Model</th>\n",
       "      <th></th>\n",
       "      <th></th>\n",
       "      <th></th>\n",
       "      <th></th>\n",
       "      <th></th>\n",
       "      <th></th>\n",
       "      <th></th>\n",
       "    </tr>\n",
       "  </thead>\n",
       "  <tbody>\n",
       "    <tr>\n",
       "      <th>Rf</th>\n",
       "      <td>Cvec</td>\n",
       "      <td>Y</td>\n",
       "      <td>0.774333</td>\n",
       "      <td>0.828000</td>\n",
       "      <td>0.747742</td>\n",
       "      <td>0.785827</td>\n",
       "      <td>0.877035</td>\n",
       "    </tr>\n",
       "    <tr>\n",
       "      <th>Rf</th>\n",
       "      <td>Tfid</td>\n",
       "      <td>Y</td>\n",
       "      <td>0.770333</td>\n",
       "      <td>0.809333</td>\n",
       "      <td>0.750773</td>\n",
       "      <td>0.778954</td>\n",
       "      <td>0.870309</td>\n",
       "    </tr>\n",
       "    <tr>\n",
       "      <th>Rf</th>\n",
       "      <td>Cvec</td>\n",
       "      <td>N</td>\n",
       "      <td>0.730000</td>\n",
       "      <td>0.806000</td>\n",
       "      <td>0.699653</td>\n",
       "      <td>0.749071</td>\n",
       "      <td>0.827448</td>\n",
       "    </tr>\n",
       "    <tr>\n",
       "      <th>Rf</th>\n",
       "      <td>Tfid</td>\n",
       "      <td>N</td>\n",
       "      <td>0.716000</td>\n",
       "      <td>0.801333</td>\n",
       "      <td>0.684510</td>\n",
       "      <td>0.738329</td>\n",
       "      <td>0.813973</td>\n",
       "    </tr>\n",
       "  </tbody>\n",
       "</table>\n",
       "</div>"
      ],
      "text/plain": [
       "      Transformer Stopwords  Accuracy    Recall  Precision        F1       ROC\n",
       "Model                                                                         \n",
       "Rf           Cvec         Y  0.774333  0.828000   0.747742  0.785827  0.877035\n",
       "Rf           Tfid         Y  0.770333  0.809333   0.750773  0.778954  0.870309\n",
       "Rf           Cvec         N  0.730000  0.806000   0.699653  0.749071  0.827448\n",
       "Rf           Tfid         N  0.716000  0.801333   0.684510  0.738329  0.813973"
      ]
     },
     "execution_count": 293,
     "metadata": {},
     "output_type": "execute_result"
    }
   ],
   "source": [
    "rf_summary_data = {\n",
    "    'Model' : ['Rf', 'Rf', 'Rf', 'Rf'],\n",
    "    'Transformer' : ['Cvec', 'Tfid', 'Cvec', 'Tfid'],\n",
    "    'Stopwords' : ['Y','Y','N','N'],\n",
    "    'Accuracy' :[gs_rf_cvec_accuracy, gs_rf_tfid_accuracy, gs_rf_cvec_stopwords_accuracy, gs_rf_tfid_stopwords_accuracy],\n",
    "    'Recall' : [gs_rf_cvec_recall, gs_rf_tfid_recall, gs_rf_cvec_stopwords_recall, gs_rf_tfid_stopwords_recall],\n",
    "    'Precision' : [gs_rf_cvec_precision, gs_rf_tfid_precision, gs_rf_cvec_stopwords_precision, gs_rf_tfid_stopwords_precision],\n",
    "    'F1' : [gs_rf_cvec_f1, gs_rf_tfid_f1,  gs_rf_cvec_stopwords_f1, gs_rf_tfid_stopwords_f1],\n",
    "    'ROC' : [gs_rf_cvec_roc, gs_rf_tfid_roc, gs_rf_cvec_stopwords_roc, gs_rf_tfid_stopwords_roc]\n",
    "    \n",
    "}\n",
    "\n",
    "rf_summary = pd.DataFrame(rf_summary_data).set_index('Model')\n",
    "rf_summary"
   ]
  },
  {
   "cell_type": "markdown",
   "metadata": {},
   "source": [
    "## Voting Classifier (Gradient, Ada, XG)"
   ]
  },
  {
   "cell_type": "code",
   "execution_count": 222,
   "metadata": {},
   "outputs": [],
   "source": [
    "vote = VotingClassifier([\n",
    "    ('gb', GradientBoostingClassifier()),\n",
    "    ('ada', AdaBoostClassifier()),\n",
    "    ('xg', XGBClassifier()),\n",
    "    ],\n",
    "    voting = 'soft')"
   ]
  },
  {
   "cell_type": "code",
   "execution_count": 223,
   "metadata": {},
   "outputs": [],
   "source": [
    "params = {\n",
    "    'gb__n_estimators' : [500],\n",
    "    'gb__learning_rate' : [0.01, 0.05],\n",
    "    'gb__max_features' : ['log2'],\n",
    "    'ada__n_estimators' : [500],\n",
    "    'ada__learning_rate' : [0.001, 0.01],\n",
    "    'xg__n_estimators' : [500],\n",
    "    'xg__learning_rate' : [0.01, 0.05],\n",
    "    'xg__max_depth' : [2, 3]\n",
    "}"
   ]
  },
  {
   "cell_type": "code",
   "execution_count": 224,
   "metadata": {},
   "outputs": [],
   "source": [
    "gs_vote_cvec = GridSearchCV(vote, param_grid=params, cv=5, verbose=1, n_jobs=4)\n",
    "gs_vote_tfid = GridSearchCV(vote, param_grid=params, cv=5, verbose=1, n_jobs=4)\n",
    "gs_vote_cvec_stopwords = GridSearchCV(vote, param_grid=params, cv=5, verbose=1, n_jobs=4)\n",
    "gs_vote_tfid_stopwords = GridSearchCV(vote, param_grid=params, cv=5, verbose=1, n_jobs=4)"
   ]
  },
  {
   "cell_type": "markdown",
   "metadata": {},
   "source": [
    "## Voting Classifier (Gradient, Ada, XG) - CountVectorizer (Including stopwords)"
   ]
  },
  {
   "cell_type": "code",
   "execution_count": 225,
   "metadata": {},
   "outputs": [
    {
     "name": "stdout",
     "output_type": "stream",
     "text": [
      "Fitting 5 folds for each of 16 candidates, totalling 80 fits\n"
     ]
    },
    {
     "name": "stderr",
     "output_type": "stream",
     "text": [
      "[Parallel(n_jobs=4)]: Using backend LokyBackend with 4 concurrent workers.\n",
      "[Parallel(n_jobs=4)]: Done  42 tasks      | elapsed: 13.1min\n",
      "[Parallel(n_jobs=4)]: Done  80 out of  80 | elapsed: 23.9min finished\n"
     ]
    },
    {
     "data": {
      "text/plain": [
       "GridSearchCV(cv=5,\n",
       "             estimator=VotingClassifier(estimators=[('gb',\n",
       "                                                     GradientBoostingClassifier()),\n",
       "                                                    ('ada',\n",
       "                                                     AdaBoostClassifier()),\n",
       "                                                    ('xg',\n",
       "                                                     XGBClassifier(base_score=None,\n",
       "                                                                   booster=None,\n",
       "                                                                   colsample_bylevel=None,\n",
       "                                                                   colsample_bynode=None,\n",
       "                                                                   colsample_bytree=None,\n",
       "                                                                   gamma=None,\n",
       "                                                                   gpu_id=None,\n",
       "                                                                   importance_type='gain',\n",
       "                                                                   interaction_constraints=None,\n",
       "                                                                   learning_rate=None,\n",
       "                                                                   max_delta_step=Non...\n",
       "                                                                   scale_pos_weight=None,\n",
       "                                                                   subsample=None,\n",
       "                                                                   tree_method=None,\n",
       "                                                                   validate_parameters=None,\n",
       "                                                                   verbosity=None))],\n",
       "                                        voting='soft'),\n",
       "             n_jobs=4,\n",
       "             param_grid={'ada__learning_rate': [0.001, 0.01],\n",
       "                         'ada__n_estimators': [500],\n",
       "                         'gb__learning_rate': [0.01, 0.05],\n",
       "                         'gb__max_features': ['log2'],\n",
       "                         'gb__n_estimators': [500],\n",
       "                         'xg__learning_rate': [0.01, 0.05],\n",
       "                         'xg__max_depth': [2, 3], 'xg__n_estimators': [500]},\n",
       "             verbose=1)"
      ]
     },
     "execution_count": 225,
     "metadata": {},
     "output_type": "execute_result"
    }
   ],
   "source": [
    "gs_vote_cvec.fit(Z_cvec_train, y_train)"
   ]
  },
  {
   "cell_type": "code",
   "execution_count": 226,
   "metadata": {},
   "outputs": [
    {
     "data": {
      "text/plain": [
       "{'ada__learning_rate': 0.01,\n",
       " 'ada__n_estimators': 500,\n",
       " 'gb__learning_rate': 0.05,\n",
       " 'gb__max_features': 'log2',\n",
       " 'gb__n_estimators': 500,\n",
       " 'xg__learning_rate': 0.05,\n",
       " 'xg__max_depth': 2,\n",
       " 'xg__n_estimators': 500}"
      ]
     },
     "execution_count": 226,
     "metadata": {},
     "output_type": "execute_result"
    }
   ],
   "source": [
    "gs_vote_cvec.best_params_"
   ]
  },
  {
   "cell_type": "code",
   "execution_count": 227,
   "metadata": {},
   "outputs": [
    {
     "data": {
      "text/plain": [
       "0.75"
      ]
     },
     "execution_count": 227,
     "metadata": {},
     "output_type": "execute_result"
    }
   ],
   "source": [
    "gs_vote_cvec.best_score_"
   ]
  },
  {
   "cell_type": "code",
   "execution_count": 228,
   "metadata": {},
   "outputs": [
    {
     "data": {
      "text/plain": [
       "0.7656666666666667"
      ]
     },
     "execution_count": 228,
     "metadata": {},
     "output_type": "execute_result"
    }
   ],
   "source": [
    "gs_vote_cvec_accuracy = accuracy_score(y_test, gs_vote_cvec.predict(Z_cvec_test))\n",
    "gs_vote_cvec_accuracy"
   ]
  },
  {
   "cell_type": "code",
   "execution_count": 229,
   "metadata": {},
   "outputs": [
    {
     "data": {
      "text/plain": [
       "0.7656666666666667"
      ]
     },
     "execution_count": 229,
     "metadata": {},
     "output_type": "execute_result"
    }
   ],
   "source": [
    "gs_vote_cvec_accuracy = accuracy_score(y_test, gs_vote_cvec.predict(Z_cvec_test))\n",
    "gs_vote_cvec_accuracy"
   ]
  },
  {
   "cell_type": "code",
   "execution_count": 230,
   "metadata": {},
   "outputs": [
    {
     "data": {
      "text/plain": [
       "0.874"
      ]
     },
     "execution_count": 230,
     "metadata": {},
     "output_type": "execute_result"
    }
   ],
   "source": [
    "gs_vote_cvec_recall = recall_score(y_test, gs_vote_cvec.predict(Z_cvec_test))\n",
    "gs_vote_cvec_recall"
   ]
  },
  {
   "cell_type": "code",
   "execution_count": 231,
   "metadata": {},
   "outputs": [
    {
     "data": {
      "text/plain": [
       "0.7183561643835616"
      ]
     },
     "execution_count": 231,
     "metadata": {},
     "output_type": "execute_result"
    }
   ],
   "source": [
    "gs_vote_cvec_precision = precision_score(y_test, gs_vote_cvec.predict(Z_cvec_test))\n",
    "gs_vote_cvec_precision"
   ]
  },
  {
   "cell_type": "code",
   "execution_count": 232,
   "metadata": {},
   "outputs": [
    {
     "data": {
      "text/plain": [
       "0.7885714285714286"
      ]
     },
     "execution_count": 232,
     "metadata": {},
     "output_type": "execute_result"
    }
   ],
   "source": [
    "gs_vote_cvec_f1 = f1_score(y_test, gs_vote_cvec.predict(Z_cvec_test))\n",
    "gs_vote_cvec_f1"
   ]
  },
  {
   "cell_type": "code",
   "execution_count": 272,
   "metadata": {},
   "outputs": [
    {
     "data": {
      "text/plain": [
       "0.8752784444444445"
      ]
     },
     "execution_count": 272,
     "metadata": {},
     "output_type": "execute_result"
    }
   ],
   "source": [
    "gs_vote_cvec_roc = roc_auc_score(y_test, gs_vote_cvec.predict_proba(Z_cvec_test)[:,1])\n",
    "gs_vote_cvec_roc"
   ]
  },
  {
   "cell_type": "code",
   "execution_count": 233,
   "metadata": {},
   "outputs": [
    {
     "data": {
      "image/png": "[encoded data removed]",
      "text/plain": [
       "<Figure size 720x576 with 2 Axes>"
      ]
     },
     "metadata": {
      "needs_background": "light"
     },
     "output_type": "display_data"
    },
    {
     "data": {
      "image/png": "[encoded data removed]",
      "text/plain": [
       "<Figure size 720x576 with 1 Axes>"
      ]
     },
     "metadata": {
      "needs_background": "light"
     },
     "output_type": "display_data"
    }
   ],
   "source": [
    "fig, ax = plt.subplots(figsize=(10, 8))\n",
    "plot_confusion_matrix(gs_vote_cvec, Z_cvec_test, y_test, cmap='bone', ax=ax)\n",
    "plt.title('Confusion Matrix (Voting - CountVectorizer): Including stopwords')\n",
    "\n",
    "fig, ax = plt.subplots(figsize=(10, 8))\n",
    "plot_roc_curve(gs_vote_cvec, Z_cvec_test, y_test, ax=ax)\n",
    "plt.plot([0, 1], [0, 1], label=\"baseline\", linestyle=\"--\")\n",
    "plt.legend()\n",
    "plt.title('ROC Curve (Voting - CountVectorizer): Including stopwords');"
   ]
  },
  {
   "cell_type": "markdown",
   "metadata": {},
   "source": [
    "## Voting Classifier (Gradient, Ada, XG) - TfidVectorizer (Including stopwords)"
   ]
  },
  {
   "cell_type": "code",
   "execution_count": 235,
   "metadata": {},
   "outputs": [
    {
     "name": "stdout",
     "output_type": "stream",
     "text": [
      "Fitting 5 folds for each of 16 candidates, totalling 80 fits\n"
     ]
    },
    {
     "name": "stderr",
     "output_type": "stream",
     "text": [
      "[Parallel(n_jobs=4)]: Using backend LokyBackend with 4 concurrent workers.\n",
      "[Parallel(n_jobs=4)]: Done  42 tasks      | elapsed: 16.4min\n",
      "[Parallel(n_jobs=4)]: Done  80 out of  80 | elapsed: 30.4min finished\n"
     ]
    },
    {
     "data": {
      "text/plain": [
       "GridSearchCV(cv=5,\n",
       "             estimator=VotingClassifier(estimators=[('gb',\n",
       "                                                     GradientBoostingClassifier()),\n",
       "                                                    ('ada',\n",
       "                                                     AdaBoostClassifier()),\n",
       "                                                    ('xg',\n",
       "                                                     XGBClassifier(base_score=None,\n",
       "                                                                   booster=None,\n",
       "                                                                   colsample_bylevel=None,\n",
       "                                                                   colsample_bynode=None,\n",
       "                                                                   colsample_bytree=None,\n",
       "                                                                   gamma=None,\n",
       "                                                                   gpu_id=None,\n",
       "                                                                   importance_type='gain',\n",
       "                                                                   interaction_constraints=None,\n",
       "                                                                   learning_rate=None,\n",
       "                                                                   max_delta_step=Non...\n",
       "                                                                   scale_pos_weight=None,\n",
       "                                                                   subsample=None,\n",
       "                                                                   tree_method=None,\n",
       "                                                                   validate_parameters=None,\n",
       "                                                                   verbosity=None))],\n",
       "                                        voting='soft'),\n",
       "             n_jobs=4,\n",
       "             param_grid={'ada__learning_rate': [0.001, 0.01],\n",
       "                         'ada__n_estimators': [500],\n",
       "                         'gb__learning_rate': [0.01, 0.05],\n",
       "                         'gb__max_features': ['log2'],\n",
       "                         'gb__n_estimators': [500],\n",
       "                         'xg__learning_rate': [0.01, 0.05],\n",
       "                         'xg__max_depth': [2, 3], 'xg__n_estimators': [500]},\n",
       "             verbose=1)"
      ]
     },
     "execution_count": 235,
     "metadata": {},
     "output_type": "execute_result"
    }
   ],
   "source": [
    "gs_vote_tfid.fit(Z_tfid_train, y_train)"
   ]
  },
  {
   "cell_type": "code",
   "execution_count": 239,
   "metadata": {},
   "outputs": [
    {
     "data": {
      "text/plain": [
       "{'ada__learning_rate': 0.01,\n",
       " 'ada__n_estimators': 500,\n",
       " 'gb__learning_rate': 0.05,\n",
       " 'gb__max_features': 'log2',\n",
       " 'gb__n_estimators': 500,\n",
       " 'xg__learning_rate': 0.05,\n",
       " 'xg__max_depth': 2,\n",
       " 'xg__n_estimators': 500}"
      ]
     },
     "execution_count": 239,
     "metadata": {},
     "output_type": "execute_result"
    }
   ],
   "source": [
    "gs_vote_tfid.best_params_"
   ]
  },
  {
   "cell_type": "code",
   "execution_count": 241,
   "metadata": {},
   "outputs": [
    {
     "data": {
      "text/plain": [
       "0.7567142857142857"
      ]
     },
     "execution_count": 241,
     "metadata": {},
     "output_type": "execute_result"
    }
   ],
   "source": [
    "gs_vote_tfid.best_score_"
   ]
  },
  {
   "cell_type": "code",
   "execution_count": 242,
   "metadata": {},
   "outputs": [
    {
     "data": {
      "text/plain": [
       "0.762"
      ]
     },
     "execution_count": 242,
     "metadata": {},
     "output_type": "execute_result"
    }
   ],
   "source": [
    "gs_vote_tfid_accuracy = accuracy_score(y_test, gs_vote_tfid.predict(Z_tfid_test))\n",
    "gs_vote_tfid_accuracy"
   ]
  },
  {
   "cell_type": "code",
   "execution_count": 243,
   "metadata": {},
   "outputs": [
    {
     "data": {
      "text/plain": [
       "0.8406666666666667"
      ]
     },
     "execution_count": 243,
     "metadata": {},
     "output_type": "execute_result"
    }
   ],
   "source": [
    "gs_vote_tfid_recall = recall_score(y_test, gs_vote_tfid.predict(Z_tfid_test))\n",
    "gs_vote_tfid_recall"
   ]
  },
  {
   "cell_type": "code",
   "execution_count": 244,
   "metadata": {},
   "outputs": [
    {
     "data": {
      "text/plain": [
       "0.7263824884792627"
      ]
     },
     "execution_count": 244,
     "metadata": {},
     "output_type": "execute_result"
    }
   ],
   "source": [
    "gs_vote_tfid_precision = precision_score(y_test, gs_vote_tfid.predict(Z_tfid_test))\n",
    "gs_vote_tfid_precision"
   ]
  },
  {
   "cell_type": "code",
   "execution_count": 245,
   "metadata": {},
   "outputs": [
    {
     "data": {
      "text/plain": [
       "0.762"
      ]
     },
     "execution_count": 245,
     "metadata": {},
     "output_type": "execute_result"
    }
   ],
   "source": [
    "gs_vote_tfid_f1 = accuracy_score(y_test, gs_vote_tfid.predict(Z_tfid_test))\n",
    "gs_vote_tfid_f1"
   ]
  },
  {
   "cell_type": "code",
   "execution_count": 249,
   "metadata": {},
   "outputs": [
    {
     "data": {
      "text/plain": [
       "0.8688368888888889"
      ]
     },
     "execution_count": 249,
     "metadata": {},
     "output_type": "execute_result"
    }
   ],
   "source": [
    "gs_vote_tfid_roc = roc_auc_score(y_test, gs_vote_tfid.predict_proba(Z_tfid_test)[:,1])\n",
    "gs_vote_tfid_roc"
   ]
  },
  {
   "cell_type": "code",
   "execution_count": 250,
   "metadata": {},
   "outputs": [
    {
     "data": {
      "image/png": "[encoded data removed]",
      "text/plain": [
       "<Figure size 720x576 with 2 Axes>"
      ]
     },
     "metadata": {
      "needs_background": "light"
     },
     "output_type": "display_data"
    },
    {
     "data": {
      "image/png": "[encoded data removed]",
      "text/plain": [
       "<Figure size 720x576 with 1 Axes>"
      ]
     },
     "metadata": {
      "needs_background": "light"
     },
     "output_type": "display_data"
    }
   ],
   "source": [
    "fig, ax = plt.subplots(figsize=(10, 8))\n",
    "plot_confusion_matrix(gs_vote_tfid, Z_tfid_test, y_test, cmap='bone', ax=ax)\n",
    "plt.title('Confusion Matrix (Voting - TfidVectorizer): Including stopwords')\n",
    "\n",
    "fig, ax = plt.subplots(figsize=(10, 8))\n",
    "plot_roc_curve(gs_vote_tfid, Z_tfid_test, y_test, ax=ax)\n",
    "plt.plot([0, 1], [0, 1], label=\"baseline\", linestyle=\"--\")\n",
    "plt.legend()\n",
    "plt.title('ROC Curve (Voting - TfidVectorizer): Including stopwords');"
   ]
  },
  {
   "cell_type": "markdown",
   "metadata": {},
   "source": [
    "## Voting Classifier (Gradient, Ada, XG) - CountVectorizer (Excluding stopwords)"
   ]
  },
  {
   "cell_type": "code",
   "execution_count": 236,
   "metadata": {},
   "outputs": [
    {
     "name": "stdout",
     "output_type": "stream",
     "text": [
      "Fitting 5 folds for each of 16 candidates, totalling 80 fits\n"
     ]
    },
    {
     "name": "stderr",
     "output_type": "stream",
     "text": [
      "[Parallel(n_jobs=4)]: Using backend LokyBackend with 4 concurrent workers.\n",
      "[Parallel(n_jobs=4)]: Done  42 tasks      | elapsed: 10.6min\n",
      "[Parallel(n_jobs=4)]: Done  80 out of  80 | elapsed: 19.0min finished\n"
     ]
    },
    {
     "data": {
      "text/plain": [
       "GridSearchCV(cv=5,\n",
       "             estimator=VotingClassifier(estimators=[('gb',\n",
       "                                                     GradientBoostingClassifier()),\n",
       "                                                    ('ada',\n",
       "                                                     AdaBoostClassifier()),\n",
       "                                                    ('xg',\n",
       "                                                     XGBClassifier(base_score=None,\n",
       "                                                                   booster=None,\n",
       "                                                                   colsample_bylevel=None,\n",
       "                                                                   colsample_bynode=None,\n",
       "                                                                   colsample_bytree=None,\n",
       "                                                                   gamma=None,\n",
       "                                                                   gpu_id=None,\n",
       "                                                                   importance_type='gain',\n",
       "                                                                   interaction_constraints=None,\n",
       "                                                                   learning_rate=None,\n",
       "                                                                   max_delta_step=Non...\n",
       "                                                                   scale_pos_weight=None,\n",
       "                                                                   subsample=None,\n",
       "                                                                   tree_method=None,\n",
       "                                                                   validate_parameters=None,\n",
       "                                                                   verbosity=None))],\n",
       "                                        voting='soft'),\n",
       "             n_jobs=4,\n",
       "             param_grid={'ada__learning_rate': [0.001, 0.01],\n",
       "                         'ada__n_estimators': [500],\n",
       "                         'gb__learning_rate': [0.01, 0.05],\n",
       "                         'gb__max_features': ['log2'],\n",
       "                         'gb__n_estimators': [500],\n",
       "                         'xg__learning_rate': [0.01, 0.05],\n",
       "                         'xg__max_depth': [2, 3], 'xg__n_estimators': [500]},\n",
       "             verbose=1)"
      ]
     },
     "execution_count": 236,
     "metadata": {},
     "output_type": "execute_result"
    }
   ],
   "source": [
    "gs_vote_cvec_stopwords.fit(Z_cvec_stopwords_train, y_train)"
   ]
  },
  {
   "cell_type": "code",
   "execution_count": 251,
   "metadata": {},
   "outputs": [
    {
     "data": {
      "text/plain": [
       "{'ada__learning_rate': 0.001,\n",
       " 'ada__n_estimators': 500,\n",
       " 'gb__learning_rate': 0.05,\n",
       " 'gb__max_features': 'log2',\n",
       " 'gb__n_estimators': 500,\n",
       " 'xg__learning_rate': 0.05,\n",
       " 'xg__max_depth': 3,\n",
       " 'xg__n_estimators': 500}"
      ]
     },
     "execution_count": 251,
     "metadata": {},
     "output_type": "execute_result"
    }
   ],
   "source": [
    "gs_vote_cvec_stopwords.best_params_"
   ]
  },
  {
   "cell_type": "code",
   "execution_count": 252,
   "metadata": {},
   "outputs": [
    {
     "data": {
      "text/plain": [
       "0.7162857142857143"
      ]
     },
     "execution_count": 252,
     "metadata": {},
     "output_type": "execute_result"
    }
   ],
   "source": [
    "gs_vote_cvec_stopwords.best_score_"
   ]
  },
  {
   "cell_type": "code",
   "execution_count": 254,
   "metadata": {},
   "outputs": [
    {
     "data": {
      "text/plain": [
       "0.7136666666666667"
      ]
     },
     "execution_count": 254,
     "metadata": {},
     "output_type": "execute_result"
    }
   ],
   "source": [
    "gs_vote_cvec_stopwords_accuracy = accuracy_score(y_test, gs_vote_cvec_stopwords.predict(Z_cvec_stopwords_test))\n",
    "gs_vote_cvec_stopwords_accuracy"
   ]
  },
  {
   "cell_type": "code",
   "execution_count": 255,
   "metadata": {},
   "outputs": [
    {
     "data": {
      "text/plain": [
       "0.7136666666666667"
      ]
     },
     "execution_count": 255,
     "metadata": {},
     "output_type": "execute_result"
    }
   ],
   "source": [
    "gs_vote_cvec_stopwords_accuracy = accuracy_score(y_test, gs_vote_cvec_stopwords.predict(Z_cvec_stopwords_test))\n",
    "gs_vote_cvec_stopwords_accuracy"
   ]
  },
  {
   "cell_type": "code",
   "execution_count": 256,
   "metadata": {},
   "outputs": [
    {
     "data": {
      "text/plain": [
       "0.8333333333333334"
      ]
     },
     "execution_count": 256,
     "metadata": {},
     "output_type": "execute_result"
    }
   ],
   "source": [
    "gs_vote_cvec_stopwords_recall = recall_score(y_test, gs_vote_cvec_stopwords.predict(Z_cvec_stopwords_test))\n",
    "gs_vote_cvec_stopwords_recall"
   ]
  },
  {
   "cell_type": "code",
   "execution_count": 257,
   "metadata": {},
   "outputs": [
    {
     "data": {
      "text/plain": [
       "0.6724045185583647"
      ]
     },
     "execution_count": 257,
     "metadata": {},
     "output_type": "execute_result"
    }
   ],
   "source": [
    "gs_vote_cvec_stopwords_precision = precision_score(y_test, gs_vote_cvec_stopwords.predict(Z_cvec_stopwords_test))\n",
    "gs_vote_cvec_stopwords_precision"
   ]
  },
  {
   "cell_type": "code",
   "execution_count": 258,
   "metadata": {},
   "outputs": [
    {
     "data": {
      "text/plain": [
       "0.7442691277165824"
      ]
     },
     "execution_count": 258,
     "metadata": {},
     "output_type": "execute_result"
    }
   ],
   "source": [
    "gs_vote_cvec_stopwords_f1 = f1_score(y_test, gs_vote_cvec_stopwords.predict(Z_cvec_stopwords_test))\n",
    "gs_vote_cvec_stopwords_f1"
   ]
  },
  {
   "cell_type": "code",
   "execution_count": 259,
   "metadata": {},
   "outputs": [
    {
     "data": {
      "text/plain": [
       "0.8159842222222221"
      ]
     },
     "execution_count": 259,
     "metadata": {},
     "output_type": "execute_result"
    }
   ],
   "source": [
    "gs_vote_cvec_stopwords_roc = roc_auc_score(y_test, gs_vote_cvec_stopwords.predict_proba(Z_cvec_stopwords_test)[:,1])\n",
    "gs_vote_cvec_stopwords_roc"
   ]
  },
  {
   "cell_type": "code",
   "execution_count": 260,
   "metadata": {},
   "outputs": [
    {
     "data": {
      "image/png": "[encoded data removed]",
      "text/plain": [
       "<Figure size 720x576 with 2 Axes>"
      ]
     },
     "metadata": {
      "needs_background": "light"
     },
     "output_type": "display_data"
    },
    {
     "data": {
      "image/png": "[encoded data removed]",
      "text/plain": [
       "<Figure size 720x576 with 1 Axes>"
      ]
     },
     "metadata": {
      "needs_background": "light"
     },
     "output_type": "display_data"
    }
   ],
   "source": [
    "fig, ax = plt.subplots(figsize=(10, 8))\n",
    "plot_confusion_matrix(gs_vote_cvec_stopwords, Z_cvec_stopwords_test, y_test, cmap='bone', ax=ax)\n",
    "plt.title('Confusion Matrix (Voting - CountVectorizer): Excluding stopwords')\n",
    "\n",
    "fig, ax = plt.subplots(figsize=(10, 8))\n",
    "plot_roc_curve(gs_vote_cvec_stopwords, Z_cvec_stopwords_test, y_test, ax=ax)\n",
    "plt.plot([0, 1], [0, 1], label=\"baseline\", linestyle=\"--\")\n",
    "plt.legend()\n",
    "plt.title('ROC Curve (Voting - CountVectorizer): Excluding stopwords');"
   ]
  },
  {
   "cell_type": "markdown",
   "metadata": {},
   "source": [
    "## Voting Classifier (Gradient, Ada, XG) - TfidVectorizer (Excluding stopwords)"
   ]
  },
  {
   "cell_type": "code",
   "execution_count": 237,
   "metadata": {},
   "outputs": [
    {
     "name": "stdout",
     "output_type": "stream",
     "text": [
      "Fitting 5 folds for each of 16 candidates, totalling 80 fits\n"
     ]
    },
    {
     "name": "stderr",
     "output_type": "stream",
     "text": [
      "[Parallel(n_jobs=4)]: Using backend LokyBackend with 4 concurrent workers.\n",
      "[Parallel(n_jobs=4)]: Done  42 tasks      | elapsed: 13.5min\n",
      "[Parallel(n_jobs=4)]: Done  80 out of  80 | elapsed: 24.7min finished\n"
     ]
    },
    {
     "data": {
      "text/plain": [
       "GridSearchCV(cv=5,\n",
       "             estimator=VotingClassifier(estimators=[('gb',\n",
       "                                                     GradientBoostingClassifier()),\n",
       "                                                    ('ada',\n",
       "                                                     AdaBoostClassifier()),\n",
       "                                                    ('xg',\n",
       "                                                     XGBClassifier(base_score=None,\n",
       "                                                                   booster=None,\n",
       "                                                                   colsample_bylevel=None,\n",
       "                                                                   colsample_bynode=None,\n",
       "                                                                   colsample_bytree=None,\n",
       "                                                                   gamma=None,\n",
       "                                                                   gpu_id=None,\n",
       "                                                                   importance_type='gain',\n",
       "                                                                   interaction_constraints=None,\n",
       "                                                                   learning_rate=None,\n",
       "                                                                   max_delta_step=Non...\n",
       "                                                                   scale_pos_weight=None,\n",
       "                                                                   subsample=None,\n",
       "                                                                   tree_method=None,\n",
       "                                                                   validate_parameters=None,\n",
       "                                                                   verbosity=None))],\n",
       "                                        voting='soft'),\n",
       "             n_jobs=4,\n",
       "             param_grid={'ada__learning_rate': [0.001, 0.01],\n",
       "                         'ada__n_estimators': [500],\n",
       "                         'gb__learning_rate': [0.01, 0.05],\n",
       "                         'gb__max_features': ['log2'],\n",
       "                         'gb__n_estimators': [500],\n",
       "                         'xg__learning_rate': [0.01, 0.05],\n",
       "                         'xg__max_depth': [2, 3], 'xg__n_estimators': [500]},\n",
       "             verbose=1)"
      ]
     },
     "execution_count": 237,
     "metadata": {},
     "output_type": "execute_result"
    }
   ],
   "source": [
    "gs_vote_tfid_stopwords.fit(Z_tfid_stopwords_train, y_train)"
   ]
  },
  {
   "cell_type": "code",
   "execution_count": 261,
   "metadata": {},
   "outputs": [
    {
     "data": {
      "text/plain": [
       "{'ada__learning_rate': 0.01,\n",
       " 'ada__n_estimators': 500,\n",
       " 'gb__learning_rate': 0.05,\n",
       " 'gb__max_features': 'log2',\n",
       " 'gb__n_estimators': 500,\n",
       " 'xg__learning_rate': 0.05,\n",
       " 'xg__max_depth': 3,\n",
       " 'xg__n_estimators': 500}"
      ]
     },
     "execution_count": 261,
     "metadata": {},
     "output_type": "execute_result"
    }
   ],
   "source": [
    "gs_vote_tfid_stopwords.best_params_"
   ]
  },
  {
   "cell_type": "code",
   "execution_count": 262,
   "metadata": {},
   "outputs": [
    {
     "data": {
      "text/plain": [
       "0.7182857142857143"
      ]
     },
     "execution_count": 262,
     "metadata": {},
     "output_type": "execute_result"
    }
   ],
   "source": [
    "gs_vote_tfid_stopwords.best_score_"
   ]
  },
  {
   "cell_type": "code",
   "execution_count": 268,
   "metadata": {},
   "outputs": [
    {
     "data": {
      "text/plain": [
       "0.7036666666666667"
      ]
     },
     "execution_count": 268,
     "metadata": {},
     "output_type": "execute_result"
    }
   ],
   "source": [
    "gs_vote_tfid_stopwords_accuracy = accuracy_score(y_test, gs_vote_tfid_stopwords.predict(Z_tfid_stopwords_test))\n",
    "gs_vote_tfid_stopwords_accuracy"
   ]
  },
  {
   "cell_type": "code",
   "execution_count": 264,
   "metadata": {},
   "outputs": [
    {
     "data": {
      "text/plain": [
       "0.8413333333333334"
      ]
     },
     "execution_count": 264,
     "metadata": {},
     "output_type": "execute_result"
    }
   ],
   "source": [
    "gs_vote_tfid_stopwords_recall = recall_score(y_test, gs_vote_tfid_stopwords.predict(Z_tfid_stopwords_test))\n",
    "gs_vote_tfid_stopwords_recall"
   ]
  },
  {
   "cell_type": "code",
   "execution_count": 265,
   "metadata": {},
   "outputs": [
    {
     "data": {
      "text/plain": [
       "0.6596968112911658"
      ]
     },
     "execution_count": 265,
     "metadata": {},
     "output_type": "execute_result"
    }
   ],
   "source": [
    "gs_vote_tfid_stopwords_precision = precision_score(y_test, gs_vote_tfid_stopwords.predict(Z_tfid_stopwords_test))\n",
    "gs_vote_tfid_stopwords_precision"
   ]
  },
  {
   "cell_type": "code",
   "execution_count": 266,
   "metadata": {},
   "outputs": [
    {
     "data": {
      "text/plain": [
       "0.7395253442719015"
      ]
     },
     "execution_count": 266,
     "metadata": {},
     "output_type": "execute_result"
    }
   ],
   "source": [
    "gs_vote_tfid_stopwords_f1 = f1_score(y_test, gs_vote_tfid_stopwords.predict(Z_tfid_stopwords_test))\n",
    "gs_vote_tfid_stopwords_f1"
   ]
  },
  {
   "cell_type": "code",
   "execution_count": 267,
   "metadata": {},
   "outputs": [
    {
     "data": {
      "text/plain": [
       "0.8127477777777777"
      ]
     },
     "execution_count": 267,
     "metadata": {},
     "output_type": "execute_result"
    }
   ],
   "source": [
    "gs_vote_tfid_stopwords_roc = roc_auc_score(y_test, gs_vote_tfid_stopwords.predict_proba(Z_tfid_stopwords_test)[:,1])\n",
    "gs_vote_tfid_stopwords_roc"
   ]
  },
  {
   "cell_type": "code",
   "execution_count": 269,
   "metadata": {},
   "outputs": [
    {
     "data": {
      "image/png": "[encoded data removed]",
      "text/plain": [
       "<Figure size 720x576 with 2 Axes>"
      ]
     },
     "metadata": {
      "needs_background": "light"
     },
     "output_type": "display_data"
    },
    {
     "data": {
      "image/png": "[encoded data removed]",
      "text/plain": [
       "<Figure size 720x576 with 1 Axes>"
      ]
     },
     "metadata": {
      "needs_background": "light"
     },
     "output_type": "display_data"
    }
   ],
   "source": [
    "fig, ax = plt.subplots(figsize=(10, 8))\n",
    "plot_confusion_matrix(gs_vote_tfid_stopwords, Z_tfid_stopwords_test, y_test, cmap='bone', ax=ax)\n",
    "plt.title('Confusion Matrix (Voting - TfidVectorizer): Excluding stopwords')\n",
    "\n",
    "fig, ax = plt.subplots(figsize=(10, 8))\n",
    "plot_roc_curve(gs_vote_tfid_stopwords, Z_tfid_stopwords_test, y_test, ax=ax)\n",
    "plt.plot([0, 1], [0, 1], label=\"baseline\", linestyle=\"--\")\n",
    "plt.legend()\n",
    "plt.title('ROC Curve (Voting - TfidVectorizer): Excluding stopwords');"
   ]
  },
  {
   "cell_type": "markdown",
   "metadata": {},
   "source": [
    "## Voting Classifier Summary\n",
    "\n",
    "To consider GradientBoost, AdaBoost, and XGBoost together, I decided to instantiate a Voting Classifier which essentially can consider multiple models at the same time and then gives back the best result. Due to lack of computational power, I was not able to fine-tune hyperparamaters for each scenario (transofmrer and stopwords). Similar as above, accuracy score was in the 70-76% range and roc auc in the 81-87% range."
   ]
  },
  {
   "cell_type": "code",
   "execution_count": 294,
   "metadata": {},
   "outputs": [
    {
     "data": {
      "text/html": [
       "<div>\n",
       "<style scoped>\n",
       "    .dataframe tbody tr th:only-of-type {\n",
       "        vertical-align: middle;\n",
       "    }\n",
       "\n",
       "    .dataframe tbody tr th {\n",
       "        vertical-align: top;\n",
       "    }\n",
       "\n",
       "    .dataframe thead th {\n",
       "        text-align: right;\n",
       "    }\n",
       "</style>\n",
       "<table border=\"1\" class=\"dataframe\">\n",
       "  <thead>\n",
       "    <tr style=\"text-align: right;\">\n",
       "      <th></th>\n",
       "      <th>Transformer</th>\n",
       "      <th>Stopwords</th>\n",
       "      <th>Accuracy</th>\n",
       "      <th>Recall</th>\n",
       "      <th>Precision</th>\n",
       "      <th>F1</th>\n",
       "      <th>ROC</th>\n",
       "    </tr>\n",
       "    <tr>\n",
       "      <th>Model</th>\n",
       "      <th></th>\n",
       "      <th></th>\n",
       "      <th></th>\n",
       "      <th></th>\n",
       "      <th></th>\n",
       "      <th></th>\n",
       "      <th></th>\n",
       "    </tr>\n",
       "  </thead>\n",
       "  <tbody>\n",
       "    <tr>\n",
       "      <th>Vote</th>\n",
       "      <td>Cvec</td>\n",
       "      <td>Y</td>\n",
       "      <td>0.765667</td>\n",
       "      <td>0.874000</td>\n",
       "      <td>0.718356</td>\n",
       "      <td>0.788571</td>\n",
       "      <td>0.875278</td>\n",
       "    </tr>\n",
       "    <tr>\n",
       "      <th>Vote</th>\n",
       "      <td>Tfid</td>\n",
       "      <td>Y</td>\n",
       "      <td>0.762000</td>\n",
       "      <td>0.840667</td>\n",
       "      <td>0.726382</td>\n",
       "      <td>0.762000</td>\n",
       "      <td>0.868837</td>\n",
       "    </tr>\n",
       "    <tr>\n",
       "      <th>Vote</th>\n",
       "      <td>Cvec</td>\n",
       "      <td>N</td>\n",
       "      <td>0.713667</td>\n",
       "      <td>0.833333</td>\n",
       "      <td>0.672405</td>\n",
       "      <td>0.744269</td>\n",
       "      <td>0.815984</td>\n",
       "    </tr>\n",
       "    <tr>\n",
       "      <th>Vote</th>\n",
       "      <td>Tfid</td>\n",
       "      <td>N</td>\n",
       "      <td>0.703667</td>\n",
       "      <td>0.841333</td>\n",
       "      <td>0.659697</td>\n",
       "      <td>0.739525</td>\n",
       "      <td>0.812748</td>\n",
       "    </tr>\n",
       "  </tbody>\n",
       "</table>\n",
       "</div>"
      ],
      "text/plain": [
       "      Transformer Stopwords  Accuracy    Recall  Precision        F1       ROC\n",
       "Model                                                                         \n",
       "Vote         Cvec         Y  0.765667  0.874000   0.718356  0.788571  0.875278\n",
       "Vote         Tfid         Y  0.762000  0.840667   0.726382  0.762000  0.868837\n",
       "Vote         Cvec         N  0.713667  0.833333   0.672405  0.744269  0.815984\n",
       "Vote         Tfid         N  0.703667  0.841333   0.659697  0.739525  0.812748"
      ]
     },
     "execution_count": 294,
     "metadata": {},
     "output_type": "execute_result"
    }
   ],
   "source": [
    "vote_summary_data = {\n",
    "    'Model' : ['Vote', 'Vote', 'Vote', 'Vote'],\n",
    "    'Transformer' : ['Cvec', 'Tfid', 'Cvec', 'Tfid'],\n",
    "    'Stopwords' : ['Y','Y','N','N'],\n",
    "    'Accuracy' :[gs_vote_cvec_accuracy, gs_vote_tfid_accuracy, gs_vote_cvec_stopwords_accuracy, gs_vote_tfid_stopwords_accuracy],\n",
    "    'Recall' : [gs_vote_cvec_recall, gs_vote_tfid_recall, gs_vote_cvec_stopwords_recall, gs_vote_tfid_stopwords_recall],\n",
    "    'Precision' : [gs_vote_cvec_precision, gs_vote_tfid_precision, gs_vote_cvec_stopwords_precision, gs_vote_tfid_stopwords_precision],\n",
    "    'F1' : [gs_vote_cvec_f1, gs_vote_tfid_f1,  gs_vote_cvec_stopwords_f1, gs_vote_tfid_stopwords_f1],\n",
    "    'ROC' : [gs_vote_cvec_roc, gs_vote_tfid_roc, gs_vote_cvec_stopwords_roc, gs_vote_tfid_stopwords_roc]\n",
    "    \n",
    "}\n",
    "\n",
    "vote_summary = pd.DataFrame(vote_summary_data).set_index('Model')\n",
    "vote_summary"
   ]
  },
  {
   "cell_type": "markdown",
   "metadata": {},
   "source": [
    "## Comprehensive Comparision & Summary"
   ]
  },
  {
   "cell_type": "code",
   "execution_count": 301,
   "metadata": {},
   "outputs": [
    {
     "data": {
      "text/html": [
       "<div>\n",
       "<style scoped>\n",
       "    .dataframe tbody tr th:only-of-type {\n",
       "        vertical-align: middle;\n",
       "    }\n",
       "\n",
       "    .dataframe tbody tr th {\n",
       "        vertical-align: top;\n",
       "    }\n",
       "\n",
       "    .dataframe thead th {\n",
       "        text-align: right;\n",
       "    }\n",
       "</style>\n",
       "<table border=\"1\" class=\"dataframe\">\n",
       "  <thead>\n",
       "    <tr style=\"text-align: right;\">\n",
       "      <th></th>\n",
       "      <th>Transformer</th>\n",
       "      <th>Stopwords</th>\n",
       "      <th>Accuracy</th>\n",
       "      <th>Recall</th>\n",
       "      <th>Precision</th>\n",
       "      <th>F1</th>\n",
       "      <th>ROC</th>\n",
       "    </tr>\n",
       "    <tr>\n",
       "      <th>Model</th>\n",
       "      <th></th>\n",
       "      <th></th>\n",
       "      <th></th>\n",
       "      <th></th>\n",
       "      <th></th>\n",
       "      <th></th>\n",
       "      <th></th>\n",
       "    </tr>\n",
       "  </thead>\n",
       "  <tbody>\n",
       "    <tr>\n",
       "      <th>Log</th>\n",
       "      <td>Cvec</td>\n",
       "      <td>Y</td>\n",
       "      <td>0.761667</td>\n",
       "      <td>0.762000</td>\n",
       "      <td>0.761492</td>\n",
       "      <td>0.761746</td>\n",
       "      <td>0.865672</td>\n",
       "    </tr>\n",
       "    <tr>\n",
       "      <th>Log</th>\n",
       "      <td>Tfid</td>\n",
       "      <td>Y</td>\n",
       "      <td>0.772333</td>\n",
       "      <td>0.762667</td>\n",
       "      <td>0.777702</td>\n",
       "      <td>0.770111</td>\n",
       "      <td>0.867852</td>\n",
       "    </tr>\n",
       "    <tr>\n",
       "      <th>Log</th>\n",
       "      <td>Cvec</td>\n",
       "      <td>N</td>\n",
       "      <td>0.731000</td>\n",
       "      <td>0.742000</td>\n",
       "      <td>0.726027</td>\n",
       "      <td>0.733927</td>\n",
       "      <td>0.817595</td>\n",
       "    </tr>\n",
       "    <tr>\n",
       "      <th>Log</th>\n",
       "      <td>Tfid</td>\n",
       "      <td>N</td>\n",
       "      <td>0.734000</td>\n",
       "      <td>0.732667</td>\n",
       "      <td>0.734626</td>\n",
       "      <td>0.733645</td>\n",
       "      <td>0.822621</td>\n",
       "    </tr>\n",
       "    <tr>\n",
       "      <th>Rf</th>\n",
       "      <td>Cvec</td>\n",
       "      <td>Y</td>\n",
       "      <td>0.774333</td>\n",
       "      <td>0.828000</td>\n",
       "      <td>0.747742</td>\n",
       "      <td>0.785827</td>\n",
       "      <td>0.877035</td>\n",
       "    </tr>\n",
       "    <tr>\n",
       "      <th>Rf</th>\n",
       "      <td>Tfid</td>\n",
       "      <td>Y</td>\n",
       "      <td>0.770333</td>\n",
       "      <td>0.809333</td>\n",
       "      <td>0.750773</td>\n",
       "      <td>0.778954</td>\n",
       "      <td>0.870309</td>\n",
       "    </tr>\n",
       "    <tr>\n",
       "      <th>Rf</th>\n",
       "      <td>Cvec</td>\n",
       "      <td>N</td>\n",
       "      <td>0.730000</td>\n",
       "      <td>0.806000</td>\n",
       "      <td>0.699653</td>\n",
       "      <td>0.749071</td>\n",
       "      <td>0.827448</td>\n",
       "    </tr>\n",
       "    <tr>\n",
       "      <th>Rf</th>\n",
       "      <td>Tfid</td>\n",
       "      <td>N</td>\n",
       "      <td>0.716000</td>\n",
       "      <td>0.801333</td>\n",
       "      <td>0.684510</td>\n",
       "      <td>0.738329</td>\n",
       "      <td>0.813973</td>\n",
       "    </tr>\n",
       "    <tr>\n",
       "      <th>Vote</th>\n",
       "      <td>Cvec</td>\n",
       "      <td>Y</td>\n",
       "      <td>0.765667</td>\n",
       "      <td>0.874000</td>\n",
       "      <td>0.718356</td>\n",
       "      <td>0.788571</td>\n",
       "      <td>0.875278</td>\n",
       "    </tr>\n",
       "    <tr>\n",
       "      <th>Vote</th>\n",
       "      <td>Tfid</td>\n",
       "      <td>Y</td>\n",
       "      <td>0.762000</td>\n",
       "      <td>0.840667</td>\n",
       "      <td>0.726382</td>\n",
       "      <td>0.762000</td>\n",
       "      <td>0.868837</td>\n",
       "    </tr>\n",
       "    <tr>\n",
       "      <th>Vote</th>\n",
       "      <td>Cvec</td>\n",
       "      <td>N</td>\n",
       "      <td>0.713667</td>\n",
       "      <td>0.833333</td>\n",
       "      <td>0.672405</td>\n",
       "      <td>0.744269</td>\n",
       "      <td>0.815984</td>\n",
       "    </tr>\n",
       "    <tr>\n",
       "      <th>Vote</th>\n",
       "      <td>Tfid</td>\n",
       "      <td>N</td>\n",
       "      <td>0.703667</td>\n",
       "      <td>0.841333</td>\n",
       "      <td>0.659697</td>\n",
       "      <td>0.739525</td>\n",
       "      <td>0.812748</td>\n",
       "    </tr>\n",
       "  </tbody>\n",
       "</table>\n",
       "</div>"
      ],
      "text/plain": [
       "      Transformer Stopwords  Accuracy    Recall  Precision        F1       ROC\n",
       "Model                                                                         \n",
       "Log          Cvec         Y  0.761667  0.762000   0.761492  0.761746  0.865672\n",
       "Log          Tfid         Y  0.772333  0.762667   0.777702  0.770111  0.867852\n",
       "Log          Cvec         N  0.731000  0.742000   0.726027  0.733927  0.817595\n",
       "Log          Tfid         N  0.734000  0.732667   0.734626  0.733645  0.822621\n",
       "Rf           Cvec         Y  0.774333  0.828000   0.747742  0.785827  0.877035\n",
       "Rf           Tfid         Y  0.770333  0.809333   0.750773  0.778954  0.870309\n",
       "Rf           Cvec         N  0.730000  0.806000   0.699653  0.749071  0.827448\n",
       "Rf           Tfid         N  0.716000  0.801333   0.684510  0.738329  0.813973\n",
       "Vote         Cvec         Y  0.765667  0.874000   0.718356  0.788571  0.875278\n",
       "Vote         Tfid         Y  0.762000  0.840667   0.726382  0.762000  0.868837\n",
       "Vote         Cvec         N  0.713667  0.833333   0.672405  0.744269  0.815984\n",
       "Vote         Tfid         N  0.703667  0.841333   0.659697  0.739525  0.812748"
      ]
     },
     "execution_count": 301,
     "metadata": {},
     "output_type": "execute_result"
    }
   ],
   "source": [
    "# Combining all three summary tables into one dataframe\n",
    "\n",
    "total_summary = pd.concat([baglog_summary, rf_summary, vote_summary])\n",
    "\n",
    "total_summary"
   ]
  },
  {
   "cell_type": "code",
   "execution_count": 320,
   "metadata": {},
   "outputs": [
    {
     "data": {
      "text/html": [
       "<div>\n",
       "<style scoped>\n",
       "    .dataframe tbody tr th:only-of-type {\n",
       "        vertical-align: middle;\n",
       "    }\n",
       "\n",
       "    .dataframe tbody tr th {\n",
       "        vertical-align: top;\n",
       "    }\n",
       "\n",
       "    .dataframe thead th {\n",
       "        text-align: right;\n",
       "    }\n",
       "</style>\n",
       "<table border=\"1\" class=\"dataframe\">\n",
       "  <thead>\n",
       "    <tr style=\"text-align: right;\">\n",
       "      <th></th>\n",
       "      <th>Transformer</th>\n",
       "      <th>Stopwords</th>\n",
       "      <th>Accuracy</th>\n",
       "      <th>Recall</th>\n",
       "      <th>Precision</th>\n",
       "      <th>F1</th>\n",
       "      <th>ROC</th>\n",
       "    </tr>\n",
       "    <tr>\n",
       "      <th>Model</th>\n",
       "      <th></th>\n",
       "      <th></th>\n",
       "      <th></th>\n",
       "      <th></th>\n",
       "      <th></th>\n",
       "      <th></th>\n",
       "      <th></th>\n",
       "    </tr>\n",
       "  </thead>\n",
       "  <tbody>\n",
       "    <tr>\n",
       "      <th>Rf</th>\n",
       "      <td>Cvec</td>\n",
       "      <td>Y</td>\n",
       "      <td>0.774333</td>\n",
       "      <td>0.828000</td>\n",
       "      <td>0.747742</td>\n",
       "      <td>0.785827</td>\n",
       "      <td>0.877035</td>\n",
       "    </tr>\n",
       "    <tr>\n",
       "      <th>Log</th>\n",
       "      <td>Tfid</td>\n",
       "      <td>Y</td>\n",
       "      <td>0.772333</td>\n",
       "      <td>0.762667</td>\n",
       "      <td>0.777702</td>\n",
       "      <td>0.770111</td>\n",
       "      <td>0.867852</td>\n",
       "    </tr>\n",
       "    <tr>\n",
       "      <th>Rf</th>\n",
       "      <td>Tfid</td>\n",
       "      <td>Y</td>\n",
       "      <td>0.770333</td>\n",
       "      <td>0.809333</td>\n",
       "      <td>0.750773</td>\n",
       "      <td>0.778954</td>\n",
       "      <td>0.870309</td>\n",
       "    </tr>\n",
       "    <tr>\n",
       "      <th>Vote</th>\n",
       "      <td>Cvec</td>\n",
       "      <td>Y</td>\n",
       "      <td>0.765667</td>\n",
       "      <td>0.874000</td>\n",
       "      <td>0.718356</td>\n",
       "      <td>0.788571</td>\n",
       "      <td>0.875278</td>\n",
       "    </tr>\n",
       "    <tr>\n",
       "      <th>Vote</th>\n",
       "      <td>Tfid</td>\n",
       "      <td>Y</td>\n",
       "      <td>0.762000</td>\n",
       "      <td>0.840667</td>\n",
       "      <td>0.726382</td>\n",
       "      <td>0.762000</td>\n",
       "      <td>0.868837</td>\n",
       "    </tr>\n",
       "    <tr>\n",
       "      <th>Log</th>\n",
       "      <td>Cvec</td>\n",
       "      <td>Y</td>\n",
       "      <td>0.761667</td>\n",
       "      <td>0.762000</td>\n",
       "      <td>0.761492</td>\n",
       "      <td>0.761746</td>\n",
       "      <td>0.865672</td>\n",
       "    </tr>\n",
       "  </tbody>\n",
       "</table>\n",
       "</div>"
      ],
      "text/plain": [
       "      Transformer Stopwords  Accuracy    Recall  Precision        F1       ROC\n",
       "Model                                                                         \n",
       "Rf           Cvec         Y  0.774333  0.828000   0.747742  0.785827  0.877035\n",
       "Log          Tfid         Y  0.772333  0.762667   0.777702  0.770111  0.867852\n",
       "Rf           Tfid         Y  0.770333  0.809333   0.750773  0.778954  0.870309\n",
       "Vote         Cvec         Y  0.765667  0.874000   0.718356  0.788571  0.875278\n",
       "Vote         Tfid         Y  0.762000  0.840667   0.726382  0.762000  0.868837\n",
       "Log          Cvec         Y  0.761667  0.762000   0.761492  0.761746  0.865672"
      ]
     },
     "execution_count": 320,
     "metadata": {},
     "output_type": "execute_result"
    }
   ],
   "source": [
    "# Ranking by Accuracy, transformers including stopwords.\n",
    "\n",
    "total_summary.loc[total_summary['Stopwords']=='Y'].sort_values(by='Accuracy', ascending=False)"
   ]
  },
  {
   "cell_type": "code",
   "execution_count": 321,
   "metadata": {},
   "outputs": [
    {
     "data": {
      "text/html": [
       "<div>\n",
       "<style scoped>\n",
       "    .dataframe tbody tr th:only-of-type {\n",
       "        vertical-align: middle;\n",
       "    }\n",
       "\n",
       "    .dataframe tbody tr th {\n",
       "        vertical-align: top;\n",
       "    }\n",
       "\n",
       "    .dataframe thead th {\n",
       "        text-align: right;\n",
       "    }\n",
       "</style>\n",
       "<table border=\"1\" class=\"dataframe\">\n",
       "  <thead>\n",
       "    <tr style=\"text-align: right;\">\n",
       "      <th></th>\n",
       "      <th>Transformer</th>\n",
       "      <th>Stopwords</th>\n",
       "      <th>Accuracy</th>\n",
       "      <th>Recall</th>\n",
       "      <th>Precision</th>\n",
       "      <th>F1</th>\n",
       "      <th>ROC</th>\n",
       "    </tr>\n",
       "    <tr>\n",
       "      <th>Model</th>\n",
       "      <th></th>\n",
       "      <th></th>\n",
       "      <th></th>\n",
       "      <th></th>\n",
       "      <th></th>\n",
       "      <th></th>\n",
       "      <th></th>\n",
       "    </tr>\n",
       "  </thead>\n",
       "  <tbody>\n",
       "    <tr>\n",
       "      <th>Log</th>\n",
       "      <td>Tfid</td>\n",
       "      <td>N</td>\n",
       "      <td>0.734000</td>\n",
       "      <td>0.732667</td>\n",
       "      <td>0.734626</td>\n",
       "      <td>0.733645</td>\n",
       "      <td>0.822621</td>\n",
       "    </tr>\n",
       "    <tr>\n",
       "      <th>Log</th>\n",
       "      <td>Cvec</td>\n",
       "      <td>N</td>\n",
       "      <td>0.731000</td>\n",
       "      <td>0.742000</td>\n",
       "      <td>0.726027</td>\n",
       "      <td>0.733927</td>\n",
       "      <td>0.817595</td>\n",
       "    </tr>\n",
       "    <tr>\n",
       "      <th>Rf</th>\n",
       "      <td>Cvec</td>\n",
       "      <td>N</td>\n",
       "      <td>0.730000</td>\n",
       "      <td>0.806000</td>\n",
       "      <td>0.699653</td>\n",
       "      <td>0.749071</td>\n",
       "      <td>0.827448</td>\n",
       "    </tr>\n",
       "    <tr>\n",
       "      <th>Rf</th>\n",
       "      <td>Tfid</td>\n",
       "      <td>N</td>\n",
       "      <td>0.716000</td>\n",
       "      <td>0.801333</td>\n",
       "      <td>0.684510</td>\n",
       "      <td>0.738329</td>\n",
       "      <td>0.813973</td>\n",
       "    </tr>\n",
       "    <tr>\n",
       "      <th>Vote</th>\n",
       "      <td>Cvec</td>\n",
       "      <td>N</td>\n",
       "      <td>0.713667</td>\n",
       "      <td>0.833333</td>\n",
       "      <td>0.672405</td>\n",
       "      <td>0.744269</td>\n",
       "      <td>0.815984</td>\n",
       "    </tr>\n",
       "    <tr>\n",
       "      <th>Vote</th>\n",
       "      <td>Tfid</td>\n",
       "      <td>N</td>\n",
       "      <td>0.703667</td>\n",
       "      <td>0.841333</td>\n",
       "      <td>0.659697</td>\n",
       "      <td>0.739525</td>\n",
       "      <td>0.812748</td>\n",
       "    </tr>\n",
       "  </tbody>\n",
       "</table>\n",
       "</div>"
      ],
      "text/plain": [
       "      Transformer Stopwords  Accuracy    Recall  Precision        F1       ROC\n",
       "Model                                                                         \n",
       "Log          Tfid         N  0.734000  0.732667   0.734626  0.733645  0.822621\n",
       "Log          Cvec         N  0.731000  0.742000   0.726027  0.733927  0.817595\n",
       "Rf           Cvec         N  0.730000  0.806000   0.699653  0.749071  0.827448\n",
       "Rf           Tfid         N  0.716000  0.801333   0.684510  0.738329  0.813973\n",
       "Vote         Cvec         N  0.713667  0.833333   0.672405  0.744269  0.815984\n",
       "Vote         Tfid         N  0.703667  0.841333   0.659697  0.739525  0.812748"
      ]
     },
     "execution_count": 321,
     "metadata": {},
     "output_type": "execute_result"
    }
   ],
   "source": [
    "# Ranking by Accuracy, transformers excluding stopwords.\n",
    "\n",
    "total_summary.loc[total_summary['Stopwords']=='N'].sort_values(by='Accuracy', ascending=False)"
   ]
  },
  {
   "cell_type": "markdown",
   "metadata": {},
   "source": [
    "## Conclusions & Recommendations\n",
    "\n",
    "Generally speaking, across all combination of models and transformers, I was able to achieve accuracy score in the 70% range, with Random Forest/CountVectorizer (including stopwords) scoring accuracy score as high as 77% and roc auc score of 87%. Excluding stopwords, Logistic Regression with TfidVectorizer achieved the highest accuracy with 73% and roc auc score of 82%.\n",
    "\n",
    "Modified stopwords (including words like 'Target' and 'Walmart') seem to play critical role in improving model performance. When comparing measurements with and without modified stopwords, accuracy scores dropped by about 4-5 pts. In terms of transformers, there doesn't appear to be a particular preference in terms of performance. It appears they both perform differently based on the environment that they operate under.\n",
    "\n",
    "While 77% accuracy score is not on the high end of the scale, given that posts from these two subreddits are similar in nature and hard to distinguish, I found the score to be fairly impressive. In addiiton, roc auc score of 87% was a promising indicator that additional intervention with tuning hyperparamters could potentially lead to better performance.\n",
    "\n",
    "**Based on these observations, here are some recommendations that could potentially lead to better performance**\n",
    "\n",
    "- Some of the classification models were complex in nature with many different hyperparameters that you can tune which may/may not improve model performance. While I was unable to tune many of the hyperparameters due to lack of computational power, it would be beneficial to leverage AWS or other remote server providers to run these complex models in order to fine tune over many of the hyperparameters for better result.\n",
    "\n",
    "- For demonstration and learning purposes, I intentionally chose two subreddits that I thought were similar in nature. In this particular case, I trained the models based on 10,000 posts that I extracted from Reddit api. While I would've liked to consider more data, due to computational restriction, I was unable do so. With more computational power, I would definitely bring in more data in order to feed more information to these models.\n",
    "\n",
    "- Another model that I attempted to was SVM. However, again, due to lack of computational power, I was unable to successfully fit and train the SVM model. With access to more powerful computer, one approach to consider would be to bag all the models into one Voting Classifier, similar to how I bagged Gradient, Ada, and XG Boost models, and run all the hyperparamters at the same time."
   ]
  }
 ],
 "metadata": {
  "kernelspec": {
   "display_name": "Python 3",
   "language": "python",
   "name": "python3"
  },
  "language_info": {
   "codemirror_mode": {
    "name": "ipython",
    "version": 3
   },
   "file_extension": ".py",
   "mimetype": "text/x-python",
   "name": "python",
   "nbconvert_exporter": "python",
   "pygments_lexer": "ipython3",
   "version": "3.8.3"
  }
 },
 "nbformat": 4,
 "nbformat_minor": 4
}
